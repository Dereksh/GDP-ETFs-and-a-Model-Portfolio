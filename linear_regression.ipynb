{
 "cells": [
  {
   "cell_type": "code",
   "execution_count": 1,
   "metadata": {},
   "outputs": [],
   "source": [
    "%%capture  \n",
    "# import libraries\n",
    "from pathlib import Path\n",
    "import pandas as pd\n",
    "from matplotlib import pyplot as plt\n",
    "import statsmodels.formula.api as smf"
   ]
  },
  {
   "cell_type": "code",
   "execution_count": 2,
   "metadata": {},
   "outputs": [],
   "source": [
    "# create file paths & read csv files\n",
    "file_path = Path(\"Resources/market_data_modified_k.csv\")\n",
    "mkt_data = pd.read_csv(file_path,index_col='Date', infer_datetime_format=True, parse_dates=True)\n",
    "file_path = Path(\"Resources/gdp_data_new_k.csv\")\n",
    "gdp_data = pd.read_csv(file_path,index_col=\"Date\", infer_datetime_format=True, parse_dates=True)"
   ]
  },
  {
   "cell_type": "code",
   "execution_count": 3,
   "metadata": {},
   "outputs": [
    {
     "data": {
      "text/html": [
       "<div>\n",
       "<style scoped>\n",
       "    .dataframe tbody tr th:only-of-type {\n",
       "        vertical-align: middle;\n",
       "    }\n",
       "\n",
       "    .dataframe tbody tr th {\n",
       "        vertical-align: top;\n",
       "    }\n",
       "\n",
       "    .dataframe thead th {\n",
       "        text-align: right;\n",
       "    }\n",
       "</style>\n",
       "<table border=\"1\" class=\"dataframe\">\n",
       "  <thead>\n",
       "    <tr style=\"text-align: right;\">\n",
       "      <th></th>\n",
       "      <th>S&amp;P500</th>\n",
       "      <th>Gold</th>\n",
       "      <th>DJIA</th>\n",
       "      <th>NASDAQ</th>\n",
       "      <th>10_Year</th>\n",
       "    </tr>\n",
       "    <tr>\n",
       "      <th>Date</th>\n",
       "      <th></th>\n",
       "      <th></th>\n",
       "      <th></th>\n",
       "      <th></th>\n",
       "      <th></th>\n",
       "    </tr>\n",
       "  </thead>\n",
       "  <tbody>\n",
       "    <tr>\n",
       "      <th>1971-01-01</th>\n",
       "      <td>95.879997</td>\n",
       "      <td>37.868</td>\n",
       "      <td>93.490000</td>\n",
       "      <td>118.870003</td>\n",
       "      <td>6.09</td>\n",
       "    </tr>\n",
       "    <tr>\n",
       "      <th>1971-02-01</th>\n",
       "      <td>96.750000</td>\n",
       "      <td>38.716</td>\n",
       "      <td>101.339996</td>\n",
       "      <td>125.379997</td>\n",
       "      <td>6.14</td>\n",
       "    </tr>\n",
       "  </tbody>\n",
       "</table>\n",
       "</div>"
      ],
      "text/plain": [
       "               S&P500    Gold        DJIA      NASDAQ  10_Year\n",
       "Date                                                          \n",
       "1971-01-01  95.879997  37.868   93.490000  118.870003     6.09\n",
       "1971-02-01  96.750000  38.716  101.339996  125.379997     6.14"
      ]
     },
     "execution_count": 3,
     "metadata": {},
     "output_type": "execute_result"
    }
   ],
   "source": [
    "# display market index data\n",
    "mkt_data.head(2)"
   ]
  },
  {
   "cell_type": "code",
   "execution_count": 4,
   "metadata": {},
   "outputs": [
    {
     "data": {
      "text/plain": [
       "S&P500     float64\n",
       "Gold       float64\n",
       "DJIA       float64\n",
       "NASDAQ     float64\n",
       "10_Year    float64\n",
       "dtype: object"
      ]
     },
     "execution_count": 4,
     "metadata": {},
     "output_type": "execute_result"
    }
   ],
   "source": [
    "# check data types\n",
    "mkt_data.dtypes"
   ]
  },
  {
   "cell_type": "code",
   "execution_count": 5,
   "metadata": {},
   "outputs": [
    {
     "data": {
      "text/html": [
       "<div>\n",
       "<style scoped>\n",
       "    .dataframe tbody tr th:only-of-type {\n",
       "        vertical-align: middle;\n",
       "    }\n",
       "\n",
       "    .dataframe tbody tr th {\n",
       "        vertical-align: top;\n",
       "    }\n",
       "\n",
       "    .dataframe thead th {\n",
       "        text-align: right;\n",
       "    }\n",
       "</style>\n",
       "<table border=\"1\" class=\"dataframe\">\n",
       "  <thead>\n",
       "    <tr style=\"text-align: right;\">\n",
       "      <th></th>\n",
       "      <th>GDP</th>\n",
       "    </tr>\n",
       "    <tr>\n",
       "      <th>Date</th>\n",
       "      <th></th>\n",
       "    </tr>\n",
       "  </thead>\n",
       "  <tbody>\n",
       "    <tr>\n",
       "      <th>1971-01-01</th>\n",
       "      <td>1135.156000</td>\n",
       "    </tr>\n",
       "    <tr>\n",
       "      <th>1971-02-01</th>\n",
       "      <td>1142.194333</td>\n",
       "    </tr>\n",
       "  </tbody>\n",
       "</table>\n",
       "</div>"
      ],
      "text/plain": [
       "                    GDP\n",
       "Date                   \n",
       "1971-01-01  1135.156000\n",
       "1971-02-01  1142.194333"
      ]
     },
     "execution_count": 5,
     "metadata": {},
     "output_type": "execute_result"
    }
   ],
   "source": [
    "gdp_data.head(2)"
   ]
  },
  {
   "cell_type": "code",
   "execution_count": 6,
   "metadata": {},
   "outputs": [
    {
     "data": {
      "text/plain": [
       "GDP    float64\n",
       "dtype: object"
      ]
     },
     "execution_count": 6,
     "metadata": {},
     "output_type": "execute_result"
    }
   ],
   "source": [
    "gdp_data.dtypes"
   ]
  },
  {
   "cell_type": "code",
   "execution_count": 7,
   "metadata": {},
   "outputs": [
    {
     "data": {
      "text/html": [
       "<div>\n",
       "<style scoped>\n",
       "    .dataframe tbody tr th:only-of-type {\n",
       "        vertical-align: middle;\n",
       "    }\n",
       "\n",
       "    .dataframe tbody tr th {\n",
       "        vertical-align: top;\n",
       "    }\n",
       "\n",
       "    .dataframe thead th {\n",
       "        text-align: right;\n",
       "    }\n",
       "</style>\n",
       "<table border=\"1\" class=\"dataframe\">\n",
       "  <thead>\n",
       "    <tr style=\"text-align: right;\">\n",
       "      <th></th>\n",
       "      <th>S&amp;P500</th>\n",
       "      <th>Gold</th>\n",
       "      <th>DJIA</th>\n",
       "      <th>NASDAQ</th>\n",
       "      <th>10_Year</th>\n",
       "      <th>GDP</th>\n",
       "    </tr>\n",
       "    <tr>\n",
       "      <th>Date</th>\n",
       "      <th></th>\n",
       "      <th></th>\n",
       "      <th></th>\n",
       "      <th></th>\n",
       "      <th></th>\n",
       "      <th></th>\n",
       "    </tr>\n",
       "  </thead>\n",
       "  <tbody>\n",
       "    <tr>\n",
       "      <th>2020-03-01</th>\n",
       "      <td>2584.590088</td>\n",
       "      <td>1593.764</td>\n",
       "      <td>7700.100098</td>\n",
       "      <td>21917.16016</td>\n",
       "      <td>0.698</td>\n",
       "      <td>20200.45567</td>\n",
       "    </tr>\n",
       "    <tr>\n",
       "      <th>2020-04-01</th>\n",
       "      <td>2912.429932</td>\n",
       "      <td>1680.030</td>\n",
       "      <td>8889.549805</td>\n",
       "      <td>24345.72070</td>\n",
       "      <td>0.622</td>\n",
       "      <td>19520.11400</td>\n",
       "    </tr>\n",
       "    <tr>\n",
       "      <th>2020-05-01</th>\n",
       "      <td>3044.310059</td>\n",
       "      <td>1715.697</td>\n",
       "      <td>9489.870117</td>\n",
       "      <td>25383.10938</td>\n",
       "      <td>0.648</td>\n",
       "      <td>20065.95433</td>\n",
       "    </tr>\n",
       "    <tr>\n",
       "      <th>2020-06-01</th>\n",
       "      <td>3100.290039</td>\n",
       "      <td>1734.032</td>\n",
       "      <td>10058.769530</td>\n",
       "      <td>25812.88086</td>\n",
       "      <td>0.653</td>\n",
       "      <td>20611.79467</td>\n",
       "    </tr>\n",
       "    <tr>\n",
       "      <th>2020-07-01</th>\n",
       "      <td>3271.120117</td>\n",
       "      <td>1840.807</td>\n",
       "      <td>10745.269530</td>\n",
       "      <td>26428.32031</td>\n",
       "      <td>0.536</td>\n",
       "      <td>21157.63500</td>\n",
       "    </tr>\n",
       "  </tbody>\n",
       "</table>\n",
       "</div>"
      ],
      "text/plain": [
       "                 S&P500      Gold          DJIA       NASDAQ  10_Year  \\\n",
       "Date                                                                    \n",
       "2020-03-01  2584.590088  1593.764   7700.100098  21917.16016    0.698   \n",
       "2020-04-01  2912.429932  1680.030   8889.549805  24345.72070    0.622   \n",
       "2020-05-01  3044.310059  1715.697   9489.870117  25383.10938    0.648   \n",
       "2020-06-01  3100.290039  1734.032  10058.769530  25812.88086    0.653   \n",
       "2020-07-01  3271.120117  1840.807  10745.269530  26428.32031    0.536   \n",
       "\n",
       "                    GDP  \n",
       "Date                     \n",
       "2020-03-01  20200.45567  \n",
       "2020-04-01  19520.11400  \n",
       "2020-05-01  20065.95433  \n",
       "2020-06-01  20611.79467  \n",
       "2020-07-01  21157.63500  "
      ]
     },
     "execution_count": 7,
     "metadata": {},
     "output_type": "execute_result"
    }
   ],
   "source": [
    "# concatenate GDP with Indices\n",
    "joined_data = pd.concat([mkt_data, gdp_data], axis=\"columns\", join=\"inner\")\n",
    "joined_data.tail()"
   ]
  },
  {
   "cell_type": "code",
   "execution_count": 8,
   "metadata": {},
   "outputs": [
    {
     "data": {
      "text/plain": [
       "S&P500     0\n",
       "Gold       0\n",
       "DJIA       0\n",
       "NASDAQ     0\n",
       "10_Year    0\n",
       "GDP        0\n",
       "dtype: int64"
      ]
     },
     "execution_count": 8,
     "metadata": {},
     "output_type": "execute_result"
    }
   ],
   "source": [
    "# check for nulls\n",
    "joined_data.isnull().sum()"
   ]
  },
  {
   "cell_type": "markdown",
   "metadata": {},
   "source": [
    "# Option One GDP VS Indeces\n",
    "## Example Using Gold as a predictor of GDP\n",
    "Linear Regressions"
   ]
  },
  {
   "cell_type": "code",
   "execution_count": 9,
   "metadata": {},
   "outputs": [],
   "source": [
    "model = smf.ols('Gold ~ GDP', data=joined_data)\n",
    "model = model.fit()"
   ]
  },
  {
   "cell_type": "code",
   "execution_count": 10,
   "metadata": {},
   "outputs": [
    {
     "data": {
      "image/png": "[encoded data removed]",
      "text/plain": [
       "<Figure size 864x432 with 1 Axes>"
      ]
     },
     "metadata": {
      "needs_background": "light"
     },
     "output_type": "display_data"
    }
   ],
   "source": [
    "sales_pred = model.predict()\n",
    "\n",
    "# Plot regression against actual data\n",
    "plt.figure(figsize=(12, 6))\n",
    "plt.plot(joined_data['GDP'], joined_data['Gold'], 'o')           # scatter plot showing actual data\n",
    "plt.plot(joined_data['GDP'], sales_pred, 'r', linewidth=2)   # regression line\n",
    "plt.xlabel('GDP')\n",
    "plt.ylabel('Gold')\n",
    "plt.title('GDP VS GOLD')\n",
    "\n",
    "plt.show()"
   ]
  },
  {
   "cell_type": "code",
   "execution_count": 11,
   "metadata": {},
   "outputs": [
    {
     "data": {
      "text/plain": [
       "0    1265.567245\n",
       "dtype: float64"
      ]
     },
     "execution_count": 11,
     "metadata": {},
     "output_type": "execute_result"
    }
   ],
   "source": [
    "new_X = 20000\n",
    "model.predict({\"GDP\": new_X})"
   ]
  },
  {
   "cell_type": "markdown",
   "metadata": {},
   "source": [
    "# Option 2  GDP VS Indices\n",
    "## Example Using Gold as a predictor of GDP\n",
    "using from sklearn.linear_model import LinearRegression"
   ]
  },
  {
   "cell_type": "code",
   "execution_count": 12,
   "metadata": {},
   "outputs": [],
   "source": [
    "from sklearn.linear_model import LinearRegression\n",
    "\n",
    "# Build linear regression model using Gold, DJIA, S&P500 and NASDAQ as predictors\n",
    "# Split data into predictors X and output Y\n",
    "predictors = ['Gold']\n",
    "X = joined_data[predictors]\n",
    "y = joined_data['GDP']\n",
    "\n",
    "# Initialise and fit model\n",
    "lm = LinearRegression()\n",
    "model = lm.fit(X, y)"
   ]
  },
  {
   "cell_type": "code",
   "execution_count": 13,
   "metadata": {},
   "outputs": [
    {
     "name": "stdout",
     "output_type": "stream",
     "text": [
      "alpha = 2542.3809867194605\n",
      "betas = [11.40082932]\n"
     ]
    }
   ],
   "source": [
    "print(f'alpha = {model.intercept_}')\n",
    "print(f'betas = {model.coef_}')"
   ]
  },
  {
   "cell_type": "code",
   "execution_count": 14,
   "metadata": {},
   "outputs": [
    {
     "data": {
      "text/plain": [
       "array([ 2974.10759154,  2983.7754948 ,  2985.56542501,  2987.02473116,\n",
       "        3004.03476851,  2999.61124673,  3009.0055301 ,  3029.44721707,\n",
       "        3020.9421984 ,  3026.60841057,  3030.81531659,  3037.80402497,\n",
       "        3062.71483704,  3092.32279079,  3092.90423309,  3101.31804513,\n",
       "        3163.72618484,  3251.17054575,  3289.7965555 ,  3305.29028255,\n",
       "        3290.14998121,  3281.42834678,  3257.50940686,  3269.51448014,\n",
       "        3284.88279806,  3385.7117326 ,  3501.24773696,  3573.48339156,\n",
       "        3700.96746505,  3908.20033966,  3914.6304074 ,  3753.4340816 ,\n",
       "        3717.05403523,  3681.5860552 ,  3621.41247803,  3753.55949072,\n",
       "        4013.39579183,  4252.50538523,  4461.11776019,  4506.09403187,\n",
       "        4407.19183749,  4298.2569133 ,  4164.52518534,  4302.23580274,\n",
       "        4271.43076191,  4349.78866185,  4611.43769482,  4636.51951933,\n",
       "        4558.77726417,  4589.43409422,  4574.04297464,  4481.27442643,\n",
       "        4449.65992672,  4414.96720309,  4422.00151478,  4402.63150576,\n",
       "        4187.64606721,  4169.1767237 ,  4167.74021921,  4130.27709405,\n",
       "        4043.81320446,  4035.20557832,  4054.99741803,  4000.66106547,\n",
       "        3989.29443864,  3975.2828194 ,  3886.15113575,  3797.09925791,\n",
       "        3843.19281086,  3865.96026702,  4028.37648156,  4066.37544569,\n",
       "        4050.77911118,  4094.75210988,  4233.56860772,  4243.2023085 ,\n",
       "        4213.01291245,  4147.93697867,  4177.0660976 ,  4195.60384608,\n",
       "        4244.9124329 ,  4353.37992308,  4390.82024658,  4371.98607654,\n",
       "        4517.08443134,  4575.83290484,  4637.52279231,  4541.20858618,\n",
       "        4551.09310521,  4637.40878402,  4692.2239714 ,  4896.13920468,\n",
       "        4961.7737791 ,  5135.2944014 ,  4903.28752467,  4912.55639891,\n",
       "        5130.20963152,  5342.31066025,  5305.34917159,  5269.16293931,\n",
       "        5480.80793487,  5727.3166665 ,  5905.72824458,  5971.67064139,\n",
       "        6583.9521802 ,  6999.63781816,  7006.01088176,  7828.55791578,\n",
       "       10233.15243169, 10134.11342736,  8861.58706077,  8433.30350641,\n",
       "        8405.4626812 ,  9391.8396326 ,  9904.4665223 ,  9683.40444172,\n",
       "       10225.86730176, 10092.80822272,  9655.07338085,  9345.39265394,\n",
       "        8901.91179409,  8251.91631188,  8239.29559381,  8204.31784945,\n",
       "        8018.38172401,  7792.46289014,  7208.55801552,  7219.45720835,\n",
       "        7601.76121805,  7532.29596498,  7255.54083316,  7218.077708  ,\n",
       "        6922.15778208,  6811.5127335 ,  6309.36320595,  6536.49052773,\n",
       "        6356.01539954,  6133.19759124,  6394.66421095,  6685.59057362,\n",
       "        7537.65435476,  7362.49201304,  7275.02485047,  7613.19624986,\n",
       "        8035.73378624,  8168.55344786,  7338.78968888,  7480.88962556,\n",
       "        7529.02392697,  7252.61082002,  7360.88449611,  7287.46315526,\n",
       "        7242.31587114,  7037.10094332,  6886.2793722 ,  6966.58681396,\n",
       "        6769.06744593,  6943.53433706,  7042.77855632,  6890.32666661,\n",
       "        6840.00340598,  6855.47433137,  6505.28645787,  6506.18712339,\n",
       "        6429.43674038,  6421.13693664,  6433.32442318,  6186.33685672,\n",
       "        5995.14494897,  5960.72584524,  5999.16944172,  6246.31661979,\n",
       "        6149.54638049,  6148.44050005,  6158.74684976,  6306.14817208,\n",
       "        6233.55909178,  6260.11162327,  6253.89817129,  6213.27701641,\n",
       "        6482.06296854,  6407.8663713 ,  6488.1510114 ,  6426.82595047,\n",
       "        6445.16988485,  6450.56247712,  6516.18565071,  6832.39905282,\n",
       "        7309.66056996,  7374.77070622,  7068.31641401,  7006.88874561,\n",
       "        7199.89338523,  7114.62658272,  7203.58725393,  7554.92661119,\n",
       "        7805.57384386,  7664.56838679,  7676.51645592,  7798.02649485,\n",
       "        7788.130575  ,  7852.4768557 ,  7879.56522617,  8095.48553273,\n",
       "        7989.21840261,  7582.9612505 ,  7598.54618418,  7690.51667433,\n",
       "        7687.80327695,  7691.64535644,  7529.6965759 ,  7456.86807818,\n",
       "        7255.92846135,  7175.56401545,  7330.34167435,  7322.15587889,\n",
       "        7153.38940242,  6965.5949418 ,  6991.82825008,  6928.50804402,\n",
       "        6776.07895596,  6734.77375132,  6820.08615715,  6709.93134423,\n",
       "        6667.17823426,  6724.20518254,  7038.42343952,  7212.78772319,\n",
       "        7218.06630717,  7291.31663557,  7030.442859  ,  6816.88252411,\n",
       "        6747.6338868 ,  6562.96325342,  6667.42905251,  7044.12385418,\n",
       "        6983.68805794,  6889.8934351 ,  6895.97007713,  6853.73000448,\n",
       "        6927.03733703,  6689.40985145,  6685.32835455,  6624.50493011,\n",
       "        6613.8109522 ,  6719.18881764,  6738.03438851,  6609.29622379,\n",
       "        6515.11397275,  6633.29496952,  6646.22350997,  6668.05609812,\n",
       "        6583.24532879,  6576.59864529,  6471.57420556,  6404.16110177,\n",
       "        6384.90510105,  6427.60120686,  6560.62608341,  6459.74014473,\n",
       "        6479.08735209,  6467.42430369,  6360.79234703,  6357.7483256 ,\n",
       "        6293.17402831,  6296.78809121,  6304.35824188,  6440.8717722 ,\n",
       "        6726.99838572,  6782.5090237 ,  7011.89370969,  6872.3589596 ,\n",
       "        6596.07126177,  6692.33986458,  6805.59570308,  6911.6690191 ,\n",
       "        6955.7560261 ,  6893.59870463,  6920.2994469 ,  6850.84559466,\n",
       "        6890.00744339,  6939.84046836,  6936.83064942,  6877.05610128,\n",
       "        7004.07274077,  6990.57415885,  6924.59755956,  6868.76769836,\n",
       "        6860.308283  ,  6837.58643016,  6895.44563898,  7003.97013331,\n",
       "        6934.3338678 ,  6961.54764739,  6944.67442   ,  6914.6218339 ,\n",
       "        6908.11196036,  6911.2015851 ,  6934.08304955,  6959.57530392,\n",
       "        7087.83463381,  7158.79339552,  7062.9466234 ,  7021.424803  ,\n",
       "        7011.3920732 ,  6934.49347941,  6914.10879658,  6960.31635783,\n",
       "        6912.20485808,  6885.05948346,  6850.40096232,  6753.14048736,\n",
       "        6589.96041726,  6491.62826434,  6559.01856647,  6472.3266603 ,\n",
       "        6465.4063569 ,  6427.84062428,  6233.74150505,  6236.22688584,\n",
       "        6220.47093972,  6246.08860321,  6034.96804579,  5834.66687541,\n",
       "        5840.23048012,  5936.89811195,  5915.54435863,  6060.19808109,\n",
       "        5950.89833036,  5873.96553409,  5881.38747398,  5782.81590365,\n",
       "        5833.35578004,  5923.80995989,  5896.99520932,  5864.0924159 ,\n",
       "        5818.2154787 ,  5820.06241305,  5805.78857474,  5764.4833701 ,\n",
       "        5699.63545291,  5522.58057351,  5463.25065771,  5471.66446975,\n",
       "        5557.55831788,  6094.44617237,  5890.23451753,  5777.28650143,\n",
       "        5786.94300386,  5972.37749281,  5811.04435705,  5734.16856493,\n",
       "        5680.94949364,  5795.81284908,  5759.14778197,  5672.17085507,\n",
       "        5662.51435263,  5625.22223991,  5574.87617762,  5642.17527312,\n",
       "        5574.24913201,  5529.60348438,  5543.91152518,  5515.14723279,\n",
       "        5644.05640995,  5629.01871608,  5594.4628024 ,  5650.89690755,\n",
       "        5762.86445233,  5772.48675228,  5691.83728565,  5688.91867334,\n",
       "        5754.7242602 ,  5913.41240355,  5898.24930055,  5995.25895726,\n",
       "        6127.71379234,  6208.15804405,  6117.30483517,  6077.15111429,\n",
       "        6176.96537502,  6153.57087325,  6182.15275236,  6342.27740021,\n",
       "        6610.92654238,  6641.83419068,  6436.49385374,  6284.22437729,\n",
       "        6594.2927324 ,  6611.47378219,  6541.39288434,  6635.19890801,\n",
       "        6861.68778335,  6864.35557741,  6990.98458871,  7190.2026803 ,\n",
       "        7267.96773712,  7156.63863878,  7170.84407211,  7158.0067383 ,\n",
       "        6919.76360792,  7008.99789904,  7084.93882316,  7104.22902638,\n",
       "        7164.29999608,  7333.1234767 ,  7548.01770862,  7592.65195542,\n",
       "        7377.24468618,  7369.83414712,  7494.38820748,  7434.93288256,\n",
       "        7363.82591007,  7448.18064623,  7384.82623768,  7533.35624211,\n",
       "        7740.42950511,  7901.99065745,  7976.79149864,  8350.22566313,\n",
       "        8806.37284436,  8875.74689079,  8895.09409815,  9518.01261073,\n",
       "       10258.10884708,  9358.91403752,  9760.16622555,  9742.65455171,\n",
       "        9384.58870515,  9230.65470763,  9688.70582736,  9719.35125658,\n",
       "        9728.91655238, 10125.1067722 , 10020.08233247, 10295.03613326,\n",
       "       10161.66923184, 10018.06438568, 10126.96510738, 10118.57409699,\n",
       "       10644.32334124, 11144.07869463, 11757.79673794, 11704.29264593,\n",
       "       12663.85484676, 13079.97371623, 13613.21330535, 12935.37699793,\n",
       "       12679.14335888, 12683.82909973, 13272.46531853, 12123.50114015,\n",
       "       11947.15311217, 11809.14607321, 11182.49948945, 11890.37698214,\n",
       "       12321.16871896, 13256.45855416, 13099.42353106, 12719.47949303,\n",
       "       13109.29664925, 13348.16682524, 13193.85660035, 13367.46842928,\n",
       "       13902.65756021, 14439.2717948 , 15381.07150355, 15482.45907872,\n",
       "       15306.46447646, 15035.40975929, 15260.62174175, 15635.9484439 ,\n",
       "       16272.6391583 , 16592.55782994, 16177.7728575 , 16376.8769408 ,\n",
       "       17038.09083907, 17855.86092561, 18181.85623928, 18429.57345882,\n",
       "       18052.92426046, 18176.48644867, 18764.02818785, 19352.11716684,\n",
       "       19782.5782796 , 19967.18050801, 20424.87820202, 22602.14018123,\n",
       "       22843.24491976, 21557.7444094 , 22333.95847306, 21384.81663023,\n",
       "       21423.23742505, 22415.10957618, 21639.41995068, 21337.09275868,\n",
       "       20613.99515884, 20733.90908166, 20701.43951975, 21076.50400283,\n",
       "       22401.77060587, 22452.19647397, 22201.42383217, 21779.47913891,\n",
       "       21603.26792089, 21133.57655443, 20681.24865102, 19482.9302825 ,\n",
       "       18687.58562724, 17850.27451924, 17185.01332656, 17877.04366649,\n",
       "       17915.98889946, 17527.65385105, 17105.99417852, 16469.49727823,\n",
       "       16714.38709209, 17348.78623979, 17780.27342719, 17354.05342294,\n",
       "       17237.05811242, 17111.01054342, 17511.54447921, 17329.31362331,\n",
       "       16694.57245073, 16492.0367178 , 15954.46481354, 16228.39253969,\n",
       "       16785.8132878 , 16577.94196675, 16002.61051577, 16203.45892596,\n",
       "       16196.97185408, 16020.98865264, 15443.33143249, 15283.09277635,\n",
       "       15367.23089675, 15734.54281589, 14950.90681235, 14722.080767  ,\n",
       "       15033.75663904, 16165.15213944, 16751.37138242, 16695.96335191,\n",
       "       16904.63273101, 17062.24919641, 17790.18074788, 17829.30839411,\n",
       "       17666.92638206, 17009.22393922, 16682.74979072, 15678.01750411,\n",
       "       16139.55727761, 16604.0498659 , 16577.52013606, 16988.94186386,\n",
       "       16739.26370168, 16921.98479324, 16623.54528404, 17155.0519471 ,\n",
       "       17557.78624295, 17143.16088212, 17171.79976538, 16972.11423978,\n",
       "       17737.5089164 , 17748.52211753, 17654.8871063 , 17766.27320879,\n",
       "       17404.70730762, 17159.68068381, 16657.33734216, 16244.5703165 ,\n",
       "       16214.23270967, 16391.26478741, 16465.92881865, 16792.12934725,\n",
       "       17268.03416569, 17588.68249041, 17389.52140296, 17222.65886499,\n",
       "       17163.4885608 , 18030.2708126 , 18670.11955671, 19610.58536843,\n",
       "       19761.4639437 , 19583.9416303 , 19323.50108524, 19415.89340608,\n",
       "       20335.2904852 , 20770.23212389, 20712.61233249, 21696.1162749 ,\n",
       "       22102.74965438, 22311.78386002, 23529.10741103])"
      ]
     },
     "execution_count": 14,
     "metadata": {},
     "output_type": "execute_result"
    }
   ],
   "source": [
    "model.predict(X)"
   ]
  },
  {
   "cell_type": "markdown",
   "metadata": {},
   "source": [
    " # Option 3 GDP VS ETF'S"
   ]
  },
  {
   "cell_type": "code",
   "execution_count": 15,
   "metadata": {},
   "outputs": [],
   "source": [
    "import os\n",
    "import pandas as pd\n",
    "import numpy as np\n",
    "import alpaca_trade_api as tradeapi\n",
    "from pathlib import Path\n",
    "\n",
    "from dotenv import load_dotenv\n",
    "load_dotenv()\n",
    "\n",
    "%matplotlib inline\n",
    "\n",
    "from MCForecastTools import MCSimulation\n",
    "from pylab import rcParams"
   ]
  },
  {
   "cell_type": "code",
   "execution_count": 16,
   "metadata": {},
   "outputs": [],
   "source": [
    "file_path = Path(\"Resources/gdp_data_new_k.csv\")\n",
    "gdp_data = pd.read_csv(file_path, index_col=\"Date\")\n",
    "\n",
    "alpaca_api_key = os.getenv(\"ALPACA_API_KEY\")\n",
    "alpaca_secret_key = os.getenv(\"ALPACA_SECRET_KEY\")\n",
    "\n",
    "api = tradeapi.REST(\n",
    "    alpaca_api_key,\n",
    "    alpaca_secret_key,\n",
    "    api_version = \"v2\"\n",
    ")"
   ]
  },
  {
   "cell_type": "code",
   "execution_count": 17,
   "metadata": {},
   "outputs": [
    {
     "data": {
      "text/html": [
       "<div>\n",
       "<style scoped>\n",
       "    .dataframe tbody tr th:only-of-type {\n",
       "        vertical-align: middle;\n",
       "    }\n",
       "\n",
       "    .dataframe tbody tr th {\n",
       "        vertical-align: top;\n",
       "    }\n",
       "\n",
       "    .dataframe thead tr th {\n",
       "        text-align: left;\n",
       "    }\n",
       "</style>\n",
       "<table border=\"1\" class=\"dataframe\">\n",
       "  <thead>\n",
       "    <tr>\n",
       "      <th></th>\n",
       "      <th colspan=\"5\" halign=\"left\">DIA</th>\n",
       "      <th colspan=\"5\" halign=\"left\">GDP</th>\n",
       "      <th>...</th>\n",
       "      <th colspan=\"5\" halign=\"left\">QQQ</th>\n",
       "      <th colspan=\"5\" halign=\"left\">SPY</th>\n",
       "    </tr>\n",
       "    <tr>\n",
       "      <th></th>\n",
       "      <th>open</th>\n",
       "      <th>high</th>\n",
       "      <th>low</th>\n",
       "      <th>close</th>\n",
       "      <th>volume</th>\n",
       "      <th>open</th>\n",
       "      <th>high</th>\n",
       "      <th>low</th>\n",
       "      <th>close</th>\n",
       "      <th>volume</th>\n",
       "      <th>...</th>\n",
       "      <th>open</th>\n",
       "      <th>high</th>\n",
       "      <th>low</th>\n",
       "      <th>close</th>\n",
       "      <th>volume</th>\n",
       "      <th>open</th>\n",
       "      <th>high</th>\n",
       "      <th>low</th>\n",
       "      <th>close</th>\n",
       "      <th>volume</th>\n",
       "    </tr>\n",
       "  </thead>\n",
       "  <tbody>\n",
       "    <tr>\n",
       "      <th>2015-11-09</th>\n",
       "      <td>178.50</td>\n",
       "      <td>178.60</td>\n",
       "      <td>166.12</td>\n",
       "      <td>166.66</td>\n",
       "      <td>6152095</td>\n",
       "      <td>0.6700</td>\n",
       "      <td>0.6800</td>\n",
       "      <td>0.630</td>\n",
       "      <td>0.6374</td>\n",
       "      <td>344908.0</td>\n",
       "      <td>...</td>\n",
       "      <td>111.31</td>\n",
       "      <td>111.45</td>\n",
       "      <td>109.85</td>\n",
       "      <td>110.55</td>\n",
       "      <td>26242607</td>\n",
       "      <td>209.31</td>\n",
       "      <td>209.49</td>\n",
       "      <td>206.95</td>\n",
       "      <td>208.06</td>\n",
       "      <td>96626934</td>\n",
       "    </tr>\n",
       "    <tr>\n",
       "      <th>2015-11-10</th>\n",
       "      <td>166.24</td>\n",
       "      <td>177.86</td>\n",
       "      <td>166.00</td>\n",
       "      <td>177.79</td>\n",
       "      <td>4037226</td>\n",
       "      <td>0.6578</td>\n",
       "      <td>0.6598</td>\n",
       "      <td>0.594</td>\n",
       "      <td>0.5984</td>\n",
       "      <td>982160.0</td>\n",
       "      <td>...</td>\n",
       "      <td>109.96</td>\n",
       "      <td>110.37</td>\n",
       "      <td>109.63</td>\n",
       "      <td>110.27</td>\n",
       "      <td>23772240</td>\n",
       "      <td>207.50</td>\n",
       "      <td>208.60</td>\n",
       "      <td>207.19</td>\n",
       "      <td>208.51</td>\n",
       "      <td>60954178</td>\n",
       "    </tr>\n",
       "  </tbody>\n",
       "</table>\n",
       "<p>2 rows × 30 columns</p>\n",
       "</div>"
      ],
      "text/plain": [
       "               DIA                                      GDP                 \\\n",
       "              open    high     low   close   volume    open    high    low   \n",
       "2015-11-09  178.50  178.60  166.12  166.66  6152095  0.6700  0.6800  0.630   \n",
       "2015-11-10  166.24  177.86  166.00  177.79  4037226  0.6578  0.6598  0.594   \n",
       "\n",
       "                              ...     QQQ                                    \\\n",
       "             close    volume  ...    open    high     low   close    volume   \n",
       "2015-11-09  0.6374  344908.0  ...  111.31  111.45  109.85  110.55  26242607   \n",
       "2015-11-10  0.5984  982160.0  ...  109.96  110.37  109.63  110.27  23772240   \n",
       "\n",
       "               SPY                                    \n",
       "              open    high     low   close    volume  \n",
       "2015-11-09  209.31  209.49  206.95  208.06  96626934  \n",
       "2015-11-10  207.50  208.60  207.19  208.51  60954178  \n",
       "\n",
       "[2 rows x 30 columns]"
      ]
     },
     "execution_count": 17,
     "metadata": {},
     "output_type": "execute_result"
    }
   ],
   "source": [
    "timeframe = \"1D\"\n",
    "\n",
    "start_date = pd.Timestamp(\"2015-11-08\", tz=\"America/New_York\").isoformat()\n",
    "end_date = pd.Timestamp(\"2020-11-01\", tz=\"America/New_York\").isoformat()\n",
    "\n",
    "\n",
    "tickers = [\"SPY\",\"DIA\",\"QQQ\",\"GLD\",\"IEF\",\"GDP\"]\n",
    "\n",
    "df_ticker = api.get_barset(\n",
    "    tickers,\n",
    "    timeframe,\n",
    "    start=start_date,\n",
    "    end=end_date\n",
    ").df\n",
    "\n",
    "df_ticker.index=df_ticker.index.date\n",
    "df_ticker.head(2)"
   ]
  },
  {
   "cell_type": "code",
   "execution_count": 18,
   "metadata": {},
   "outputs": [],
   "source": [
    "# Create and empty DataFrame for closing prices\n",
    "closing_prices = pd.DataFrame()\n",
    "\n",
    "# Pick AGG and SPY close prices\n",
    "closing_prices[\"DIA\"] = df_ticker[\"DIA\"][\"close\"]\n",
    "closing_prices[\"GDP\"] = df_ticker[\"GDP\"][\"close\"]\n",
    "closing_prices[\"QQQ\"] = df_ticker[\"QQQ\"][\"close\"]\n",
    "closing_prices[\"GLD\"] = df_ticker[\"GLD\"][\"close\"]\n",
    "closing_prices[\"IEF\"] = df_ticker[\"IEF\"][\"close\"]\n",
    "closing_prices[\"SPY\"] = df_ticker[\"SPY\"][\"close\"]\n",
    "closing_prices.dropna(inplace=True)"
   ]
  },
  {
   "cell_type": "code",
   "execution_count": 19,
   "metadata": {},
   "outputs": [
    {
     "data": {
      "text/plain": [
       "DIA    0\n",
       "GDP    0\n",
       "QQQ    0\n",
       "GLD    0\n",
       "IEF    0\n",
       "SPY    0\n",
       "dtype: int64"
      ]
     },
     "execution_count": 19,
     "metadata": {},
     "output_type": "execute_result"
    }
   ],
   "source": [
    "closing_prices.isnull().sum()"
   ]
  },
  {
   "cell_type": "code",
   "execution_count": 20,
   "metadata": {},
   "outputs": [
    {
     "data": {
      "text/html": [
       "<div>\n",
       "<style scoped>\n",
       "    .dataframe tbody tr th:only-of-type {\n",
       "        vertical-align: middle;\n",
       "    }\n",
       "\n",
       "    .dataframe tbody tr th {\n",
       "        vertical-align: top;\n",
       "    }\n",
       "\n",
       "    .dataframe thead th {\n",
       "        text-align: right;\n",
       "    }\n",
       "</style>\n",
       "<table border=\"1\" class=\"dataframe\">\n",
       "  <thead>\n",
       "    <tr style=\"text-align: right;\">\n",
       "      <th></th>\n",
       "      <th>DIA</th>\n",
       "      <th>GDP</th>\n",
       "      <th>QQQ</th>\n",
       "      <th>GLD</th>\n",
       "      <th>IEF</th>\n",
       "      <th>SPY</th>\n",
       "    </tr>\n",
       "  </thead>\n",
       "  <tbody>\n",
       "    <tr>\n",
       "      <th>2020-10-29</th>\n",
       "      <td>266.52</td>\n",
       "      <td>9.895</td>\n",
       "      <td>276.23</td>\n",
       "      <td>175.41</td>\n",
       "      <td>120.465</td>\n",
       "      <td>329.99</td>\n",
       "    </tr>\n",
       "    <tr>\n",
       "      <th>2020-10-30</th>\n",
       "      <td>265.08</td>\n",
       "      <td>9.740</td>\n",
       "      <td>269.71</td>\n",
       "      <td>176.20</td>\n",
       "      <td>120.080</td>\n",
       "      <td>326.53</td>\n",
       "    </tr>\n",
       "  </tbody>\n",
       "</table>\n",
       "</div>"
      ],
      "text/plain": [
       "               DIA    GDP     QQQ     GLD      IEF     SPY\n",
       "2020-10-29  266.52  9.895  276.23  175.41  120.465  329.99\n",
       "2020-10-30  265.08  9.740  269.71  176.20  120.080  326.53"
      ]
     },
     "execution_count": 20,
     "metadata": {},
     "output_type": "execute_result"
    }
   ],
   "source": [
    "closing_prices.tail(2)"
   ]
  },
  {
   "cell_type": "code",
   "execution_count": 21,
   "metadata": {},
   "outputs": [],
   "source": [
    "model1 = smf.ols('GDP ~ GLD', data=closing_prices)\n",
    "model1 = model1.fit()"
   ]
  },
  {
   "cell_type": "code",
   "execution_count": 22,
   "metadata": {},
   "outputs": [
    {
     "data": {
      "image/png": "[encoded data removed]",
      "text/plain": [
       "<Figure size 432x288 with 1 Axes>"
      ]
     },
     "metadata": {
      "needs_background": "light"
     },
     "output_type": "display_data"
    }
   ],
   "source": [
    "sales_pred = model1.predict()\n",
    "\n",
    "# Plot regression against actual data\n",
    "# plt.figure(figsize=(12, 6))\n",
    "plt.plot(closing_prices['GDP'], closing_prices['GLD'], 'o')           # scatter plot showing actual data\n",
    "plt.plot(closing_prices['GDP'], sales_pred, 'r', linewidth=2)   # regression line\n",
    "# plt.xlabel('GDP')\n",
    "# plt.ylabel('Gold')\n",
    "# plt.title('GDP VS GOLD')\n",
    "\n",
    "plt.show()"
   ]
  },
  {
   "cell_type": "markdown",
   "metadata": {},
   "source": [
    "# Option 4  "
   ]
  },
  {
   "cell_type": "code",
   "execution_count": 23,
   "metadata": {},
   "outputs": [],
   "source": [
    "from sklearn.linear_model import LinearRegression\n",
    "\n",
    "# Build linear regression model using ETF's as predictors\n",
    "# Split data into predictors X and output Y\n",
    "predictors = ['GLD','QQQ','SPY','IEF','DIA']\n",
    "X = closing_prices[predictors]\n",
    "y = closing_prices['GDP']\n",
    "\n",
    "# Initialise and fit model\n",
    "lm = LinearRegression()\n",
    "model = lm.fit(X, y)"
   ]
  },
  {
   "cell_type": "code",
   "execution_count": 24,
   "metadata": {},
   "outputs": [
    {
     "name": "stdout",
     "output_type": "stream",
     "text": [
      "alpha = 44.76473647971501\n",
      "betas = [ 0.08595624  0.03174247 -0.13916689 -0.45781633  0.15018339]\n"
     ]
    }
   ],
   "source": [
    "print(f'alpha = {model.intercept_}')\n",
    "print(f'betas = {model.coef_}')"
   ]
  },
  {
   "cell_type": "code",
   "execution_count": 25,
   "metadata": {},
   "outputs": [
    {
     "data": {
      "text/plain": [
       "array([ 5.16163831,  6.65233269,  5.04587245,  5.00753239,  4.78431428,\n",
       "        6.29472441,  6.22722728,  6.25703771,  6.26909541,  4.72102978,\n",
       "        4.58157599,  6.12185313,  6.05524832,  5.85770833,  5.91624279,\n",
       "        5.74850893,  5.8054431 ,  6.3773706 ,  4.91177862,  6.19585321,\n",
       "        6.13104377,  6.10385422,  4.75767661,  4.44706842,  6.21824951,\n",
       "        6.31518634,  6.48999378,  6.10931756,  6.07086024,  6.13312127,\n",
       "        4.80564863,  4.81945246,  4.85579026,  4.78179263,  6.53455124,\n",
       "        5.00094671,  6.35052776,  4.76858201,  4.76926685,  6.00148388,\n",
       "        4.62323404,  5.82635614,  5.97626292,  5.72282749,  5.57449161,\n",
       "        8.92624258,  8.05786319,  7.98770855,  8.02823085,  8.51771399,\n",
       "        8.45178564,  8.63590137,  7.88783715,  7.93791637,  9.04665566,\n",
       "        8.15134122,  8.884256  ,  8.88064669,  8.10365688,  8.81411197,\n",
       "        8.81416467,  8.78758533,  7.95311262,  8.9086718 ,  8.09675883,\n",
       "        8.03973143,  8.06548331,  7.87030395,  7.90642528,  8.71504763,\n",
       "        8.46986165,  8.40655622,  8.3888002 ,  8.47884305,  7.83820882,\n",
       "        7.80667114,  8.4951954 ,  8.54965376,  7.61667086,  7.61039237,\n",
       "        8.42680057,  8.31237446,  8.40750991,  7.61875538,  8.45297814,\n",
       "        7.69514027,  8.46708865,  8.40552769,  8.42832129,  8.19013486,\n",
       "        8.26716851,  8.35710089,  7.75349247,  8.38167831,  7.73802926,\n",
       "        8.37711889,  8.37526183,  7.56464351,  8.55932576,  8.58315916,\n",
       "        8.66711238,  8.81669655,  8.283874  ,  8.30014652,  9.08595205,\n",
       "        9.02839195,  8.98185308,  8.30054962,  8.16556076,  8.871228  ,\n",
       "        8.86907123,  8.85085143,  7.99818742,  8.61534273,  7.92893362,\n",
       "        7.8711624 ,  8.52635603,  8.7877264 ,  8.86222803,  8.42349023,\n",
       "        8.50565276,  9.24956768,  9.21240816,  9.32060715,  8.58802035,\n",
       "        8.67632827,  8.63873989,  8.76247209,  9.4340675 ,  9.43132207,\n",
       "        9.42471567,  9.38643884,  8.83846184,  9.45924436,  8.74110956,\n",
       "        8.66511446,  9.22099979,  8.73588219,  8.58793704,  9.21081684,\n",
       "        9.15363754,  8.70266611,  9.2127682 ,  9.17387223,  9.16805381,\n",
       "        9.39846538,  9.04051066,  8.5525819 ,  8.43576607,  8.47056455,\n",
       "        9.22634561,  8.79389955,  9.4333419 ,  8.96387181,  9.16643716,\n",
       "        9.20902998,  9.81210321,  9.33410449,  9.81873409,  9.2237729 ,\n",
       "        9.66308475,  9.05838992,  9.68981798,  9.73970929,  9.69886499,\n",
       "        9.30067954,  9.32254818,  9.32859079,  9.88557401, 10.0304051 ,\n",
       "        9.57602049, 10.13198342,  9.60659344, 10.0920103 ,  9.53461851,\n",
       "        9.59709135,  9.59433701, 10.39803408, 10.39456857, 10.60744844,\n",
       "       10.59884158, 10.8934971 , 10.95715921, 10.48274885, 10.79057843,\n",
       "       10.63132308, 10.14362637, 10.75633235, 10.78966176, 10.11884914,\n",
       "       10.14485581, 10.61503954, 10.68351507, 10.75576383, 10.90027792,\n",
       "       10.42831187, 10.38989331, 10.67483508, 10.85881521, 10.75542874,\n",
       "       10.33875354, 10.8277716 , 10.72300791, 10.71792162, 10.77512961,\n",
       "       10.80511452, 10.98847337, 11.30955   , 11.21167376, 11.28554644,\n",
       "       10.69441473, 10.54502064, 10.50822801, 10.98618814, 10.98134756,\n",
       "       11.14458173, 10.74696738, 11.22093702, 10.94010836, 11.49410655,\n",
       "       11.40248187, 11.92552552, 11.99443728, 12.00001241, 12.04305068,\n",
       "       11.90006902, 12.03346256, 11.65672794, 11.85485718, 11.73109265,\n",
       "       11.91072243, 12.44944471, 12.399486  , 12.29857696, 12.72482033,\n",
       "       12.41337634, 13.08836434, 12.80722852, 13.37102615, 13.04920893,\n",
       "       13.51071527, 13.14282872, 13.36553201, 13.671398  , 13.6514067 ,\n",
       "       13.74542162, 13.7814045 , 13.67762699, 13.49194314, 14.24357062,\n",
       "       13.98663121, 13.26499687, 13.65602583, 13.84927095, 13.14508831,\n",
       "       13.59534807, 13.85902835, 13.83126663, 13.94188164, 14.38530536,\n",
       "       13.89142062, 13.87535457, 13.91491784, 14.11498528, 13.95029719,\n",
       "       14.14311506, 14.14546333, 13.84991557, 13.48242085, 13.47867582,\n",
       "       13.67034951, 13.47052011, 13.5554548 , 13.45269448, 13.41384024,\n",
       "       13.13872601, 13.26039037, 12.99830684, 13.13533121, 13.29472024,\n",
       "       13.27217295, 13.4522508 , 13.40285337, 13.05108885, 12.98612009,\n",
       "       13.35949804, 13.16331107, 13.04919615, 12.83334444, 13.04773681,\n",
       "       13.15331248, 13.19489125, 13.39880379, 13.06671064, 13.24822679,\n",
       "       13.50184752, 13.22024758, 13.62223516, 13.56447903, 13.65288078,\n",
       "       13.48680558, 13.59295282, 13.9198978 , 13.91503789, 13.68297142,\n",
       "       13.5396832 , 13.75370286, 13.51621795, 13.57403721, 13.49919745,\n",
       "       13.44565876, 13.39531675, 13.43549086, 13.57654248, 13.49849684,\n",
       "       13.72578296, 13.81795624, 13.81021861, 13.69399315, 13.96064174,\n",
       "       13.80780165, 14.01022918, 14.01999285, 13.75456264, 13.97735684,\n",
       "       13.77251722, 13.63968127, 13.56900845, 13.36792523, 12.62605954,\n",
       "       12.87855233, 12.81154198, 12.97411933, 13.33086517, 13.22319558,\n",
       "       13.5689781 , 13.57313863, 13.6355234 , 13.66777383, 13.6209293 ,\n",
       "       13.62936556, 13.48929741, 13.27162244, 13.15875102, 12.70807374,\n",
       "       12.71194927, 12.48463918, 12.58783766, 12.3864603 , 12.30000494,\n",
       "       12.06172229, 12.03399949, 12.168441  , 12.17156912, 12.093785  ,\n",
       "       12.12827677, 11.99351944, 12.32535017, 12.41550124, 12.13408736,\n",
       "       12.28266017, 12.2696828 , 12.42532226, 12.31381723, 12.37440348,\n",
       "       12.1452398 , 12.34820605, 12.44098248, 12.54704912, 12.61811877,\n",
       "       12.80108952, 12.80318784, 12.74635323, 12.73928755, 12.80937186,\n",
       "       12.57956134, 12.52550698, 12.40176839, 12.61840461, 12.5528961 ,\n",
       "       12.38288138, 12.13709471, 11.94233944, 11.95791777, 11.70696538,\n",
       "       12.01681269, 12.04905177, 11.98664648, 12.1129519 , 11.94336787,\n",
       "       11.80693871, 11.97930413, 12.26007307, 12.30527546, 12.31859289,\n",
       "       12.13565721, 12.0933226 , 12.25432022, 12.36998426, 12.40922149,\n",
       "       12.55096767, 12.36714275, 12.59275732, 12.64961911, 12.67111324,\n",
       "       12.6878102 , 12.72346721, 13.00944711, 13.31936525, 13.4648301 ,\n",
       "       13.57722241, 13.52358198, 13.53274994, 13.3127945 , 13.22443155,\n",
       "       13.30889121, 13.66059208, 13.83441856, 14.18517561, 14.22007695,\n",
       "       14.24156434, 14.1735173 , 14.07056893, 13.88531412, 13.85140272,\n",
       "       13.91058504, 13.95997853, 14.12304134, 14.10252205, 13.98044235,\n",
       "       14.13764096, 14.11317525, 14.06604427, 13.82786456, 14.0242657 ,\n",
       "       13.91841831, 13.64759178, 13.85161784, 14.00040446, 14.26668671,\n",
       "       14.49191138, 14.49714138, 14.62355556, 14.76379173, 14.91490244,\n",
       "       14.58742464, 14.08173786, 13.95119023, 13.8480735 , 13.86362227,\n",
       "       13.78136715, 13.58408951, 13.34782161, 13.32355378, 13.20198696,\n",
       "       13.31696051, 13.28106621, 13.55890809, 13.50529714, 13.45689695,\n",
       "       13.61780036, 13.32531093, 13.14845108, 12.97013749, 12.95663784,\n",
       "       13.01192315, 13.24228999, 13.30489297, 13.00173916, 12.80452058,\n",
       "       12.97756148, 12.64662985, 12.6213984 , 12.58574947, 12.38770379,\n",
       "       12.87123077, 12.9236841 , 12.64461611, 12.57301676, 12.50699045,\n",
       "       11.96426793, 12.4288195 , 12.53971381, 12.72725453, 12.78514523,\n",
       "       12.78963649, 12.65212608, 12.70651958, 12.67145105, 12.87357305,\n",
       "       12.9390357 , 13.05894203, 12.87262633, 13.09389661, 12.88936865,\n",
       "       13.16946162, 13.08761095, 13.09653382, 13.28588093, 12.80114392,\n",
       "       13.14965865, 13.27112372, 13.35714564, 13.2758583 , 13.13070102,\n",
       "       12.9757785 , 12.92472301, 13.16344622, 13.29438256, 13.12104786,\n",
       "       13.38072709, 13.40589878, 13.38897573, 13.50510532, 13.37643462,\n",
       "       13.37552371, 13.42145241, 13.42982093, 13.10044735, 13.11108077,\n",
       "       13.00716833, 12.75385569, 12.85236661, 12.70997737, 12.42040009,\n",
       "       12.49557867, 12.47371132, 12.52693227, 12.55268841, 12.61196296,\n",
       "       12.26352856, 12.22707604, 11.82915574, 11.83470179, 11.76575982,\n",
       "       11.67057022, 11.51104305, 11.70370088, 12.21242488, 12.06226374,\n",
       "       12.20861467, 12.3606469 , 12.21539375, 12.19762075, 12.09751041,\n",
       "       11.90716182, 11.846353  , 12.21163079, 12.12483419, 12.29684188,\n",
       "       12.3841327 , 12.36371207, 12.34002336, 12.16267949, 12.00900865,\n",
       "       11.89221275, 11.77675299, 11.80196807, 11.71389792, 11.79676524,\n",
       "       11.77801097, 11.77802704, 11.70008843, 11.41456814, 11.53508104,\n",
       "       11.34523563, 11.43001462, 11.13732214, 11.21740464, 11.07953596,\n",
       "       11.12218751, 10.96195566, 11.08666504, 11.13447397, 10.92535775,\n",
       "       10.67055309, 10.77914755, 10.4939888 , 10.3985927 , 10.29547766,\n",
       "       10.0029041 , 10.30322153, 10.35811493, 10.48118163, 10.43658345,\n",
       "       10.57310208, 10.56781173, 10.46515941, 10.43645242, 10.41626952,\n",
       "       10.44390072, 10.61899181, 10.52901247, 10.75473106, 11.13530459,\n",
       "       11.18760305, 11.14744145, 11.30723246, 10.99654257, 10.88617471,\n",
       "       10.74593638, 10.80996301, 10.73449442, 10.93658092, 10.90146261,\n",
       "       10.92608049, 11.05240006, 11.43739965, 11.65516807, 11.61071667,\n",
       "       11.7020115 , 11.71758132, 11.63529542, 11.62292284, 11.57095821,\n",
       "       11.60225495, 11.31818972, 11.27480523, 11.13844586, 11.25950775,\n",
       "       11.31485241, 10.92367509, 10.63332533, 10.53459688, 10.11357624,\n",
       "       10.16017237, 10.29935709, 10.32157845, 10.44095519, 10.0695076 ,\n",
       "       10.2794016 ,  9.81766131,  9.64306055,  9.58842128,  9.66472793,\n",
       "        9.55450817,  9.73509561,  9.88662112,  9.70117433,  9.81968397,\n",
       "        9.66170374,  9.75212604,  9.82955696,  9.84705901,  9.77274392,\n",
       "        9.76408222, 10.02836536,  9.93395876, 10.26494503, 10.60137177,\n",
       "       10.8333848 , 10.93867424, 11.386746  , 11.14242338, 11.01454775,\n",
       "       10.9379339 , 10.90786489, 10.789228  , 10.77632584, 10.62686253,\n",
       "       10.79916105, 10.63935152, 10.52956704, 10.29743279, 10.23133274,\n",
       "       10.08224776,  9.80273545,  9.79050048,  9.87069491,  9.92963223,\n",
       "       10.05527331, 10.27684746, 10.66253029, 10.57078131, 10.76517459,\n",
       "       10.75725045, 10.74929264, 10.40157669, 10.3798735 , 10.33312023,\n",
       "       10.30679159, 10.33702445, 10.58082556, 10.69082613, 10.58716915,\n",
       "       10.44504573, 10.15926505, 10.45129705, 10.71843412, 10.88578201,\n",
       "       10.75893968, 11.18277114, 11.10188894, 11.10260887, 11.06095179,\n",
       "       11.07521616, 10.84181105, 10.83070749, 10.82791873, 10.6118446 ,\n",
       "       10.37001935, 10.41826771, 10.47577392, 10.44560657, 10.40316386,\n",
       "       10.40569483, 10.51153803, 10.65736578, 10.15288552, 10.32089234,\n",
       "       10.40809971, 10.63162124, 10.55201873, 10.64366586, 10.48044021,\n",
       "       10.84290606, 10.62182886, 10.74903038, 10.78173533, 10.89574177,\n",
       "       11.0068204 , 11.02001261, 11.21552133, 11.20931482, 11.22818734,\n",
       "       11.17318895, 11.17165211, 11.35703778, 11.45220446, 11.18993873,\n",
       "       11.36496508, 11.41615942, 11.50320055, 11.47884701, 11.35319962,\n",
       "       11.20721747, 11.18230115, 11.1917609 , 11.33706606, 11.34818296,\n",
       "       11.03591629, 11.02884902, 10.85731693, 10.84299471, 10.4921857 ,\n",
       "       10.47633853, 10.37019495, 10.38146323,  9.9820088 , 10.01908849,\n",
       "       10.22982742, 10.70452366, 10.76919285, 10.3862889 , 10.3260932 ,\n",
       "       10.32937024, 10.64669146, 10.56439415, 10.43202822, 10.37227601,\n",
       "       10.48387846, 10.28360613, 10.16497134,  9.6239185 ,  9.06693814,\n",
       "        9.16470947,  8.68674947,  7.43723477,  8.01709718,  7.58339813,\n",
       "        8.01868908,  7.65152093,  7.28745853,  6.45873083,  7.33072093,\n",
       "        7.12968165,  6.21785207,  6.58539387,  4.28935478,  5.80754082,\n",
       "        5.81296007,  5.78799458,  4.63663551,  4.5053627 ,  6.14887475,\n",
       "        6.18964211,  6.49962598,  5.48425494,  5.63848415,  4.96077976,\n",
       "        4.80827735,  5.01763546,  4.99712112,  6.04409787,  6.21201615,\n",
       "        6.22615856,  6.3421922 ,  6.63420795,  6.62712865,  6.19254992,\n",
       "        6.03727716,  5.98325043,  5.67738469,  5.43104791,  5.91632635,\n",
       "        6.04877185,  5.95602805,  6.15029814,  5.87755505,  5.97130522,\n",
       "        5.77174874,  5.82414735,  5.85165119,  5.86326467,  5.8826704 ,\n",
       "        5.72489739,  5.92713162,  5.88557627,  5.76555908,  5.60553642,\n",
       "        5.83181474,  5.86026656,  6.34511056,  6.16011742,  6.19020757,\n",
       "        6.05481678,  5.96949786,  6.16451724,  6.40448749,  6.33590465,\n",
       "        6.24283065,  6.33155175,  6.42347533,  6.74363832,  7.19318479,\n",
       "        7.50904801,  7.76132226,  7.71310781,  7.38164803,  6.47718317,\n",
       "        6.50702753,  6.83725878,  7.06883275,  6.94846658,  6.71636263,\n",
       "        6.92958644,  7.03990979,  7.24942441,  7.00155584,  7.02708607,\n",
       "        6.69341034,  6.98146201,  6.97561775,  6.79841476,  6.76510016,\n",
       "        7.13874124,  6.86965289,  7.0680556 ,  6.62369811,  6.86431213,\n",
       "        7.07482189,  7.45003051,  7.43683085,  7.15074168,  7.04882578,\n",
       "        6.94760827,  7.15515733,  7.36616854,  7.25819769,  7.33420637,\n",
       "        7.72584485,  7.59872255,  7.42795391,  7.09308127,  7.17928053,\n",
       "        7.42459896,  7.68856188,  8.30654274,  8.55052523,  8.3691064 ,\n",
       "        8.72951077,  8.10877242,  8.21020189,  8.6752207 ,  8.62694381,\n",
       "        8.70089395,  8.65075479,  8.2239802 ,  8.2218648 ,  8.17508523,\n",
       "        8.30750416,  8.27122513,  8.30617797,  8.44098814,  8.60915524,\n",
       "        8.47448793,  8.44171965,  8.18471648,  8.01581285,  8.39092633,\n",
       "        8.18939019,  8.34167121,  8.28180754,  8.31610131,  8.52252861,\n",
       "        8.40963987,  8.59574076,  8.56301427,  8.75892375,  8.11913047,\n",
       "        7.94939645,  7.6370928 ,  7.65499706,  7.5896457 ,  7.78705696,\n",
       "        7.86684485,  8.11849603,  8.18744285,  8.21228302,  8.69660477,\n",
       "        8.33136482,  8.62292634,  8.41572325,  8.67137256,  8.4508757 ,\n",
       "        8.15565338,  8.16450328,  8.25019514,  8.36186239,  8.44612263,\n",
       "        8.60463554,  8.74785208,  8.7744655 ,  8.49348368,  8.11440979,\n",
       "        7.92811769,  7.54472295,  7.56289173,  7.86534892])"
      ]
     },
     "execution_count": 25,
     "metadata": {},
     "output_type": "execute_result"
    }
   ],
   "source": [
    "model.predict(X)"
   ]
  },
  {
   "cell_type": "code",
   "execution_count": null,
   "metadata": {},
   "outputs": [],
   "source": []
  },
  {
   "cell_type": "code",
   "execution_count": null,
   "metadata": {},
   "outputs": [],
   "source": []
  }
 ],
 "metadata": {
  "kernelspec": {
   "display_name": "Python 3",
   "language": "python",
   "name": "python3"
  },
  "language_info": {
   "codemirror_mode": {
    "name": "ipython",
    "version": 3
   },
   "file_extension": ".py",
   "mimetype": "text/x-python",
   "name": "python",
   "nbconvert_exporter": "python",
   "pygments_lexer": "ipython3",
   "version": "3.7.7"
  }
 },
 "nbformat": 4,
 "nbformat_minor": 4
}
