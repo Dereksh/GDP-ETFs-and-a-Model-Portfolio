{
 "cells": [
  {
   "cell_type": "code",
   "execution_count": 1,
   "metadata": {},
   "outputs": [],
   "source": [
    "import pandas as pd\n",
    "import os\n",
    "from pathlib import Path\n",
    "from dotenv import load_dotenv\n",
    "import hvplot"
   ]
  },
  {
   "cell_type": "code",
   "execution_count": 11,
   "metadata": {},
   "outputs": [],
   "source": [
    "file_path = Path(\"market_data.csv\")\n",
    "mkt_data = pd.read_csv(file_path, index_col=\"Date\")\n",
    "file_path = Path(\"gdp_data.csv\")\n",
    "gdp_data = pd.read_csv(file_path, index_col=\"DATE\")"
   ]
  },
  {
   "cell_type": "code",
   "execution_count": 13,
   "metadata": {},
   "outputs": [
    {
     "data": {
      "text/html": [
       "<div>\n",
       "<style scoped>\n",
       "    .dataframe tbody tr th:only-of-type {\n",
       "        vertical-align: middle;\n",
       "    }\n",
       "\n",
       "    .dataframe tbody tr th {\n",
       "        vertical-align: top;\n",
       "    }\n",
       "\n",
       "    .dataframe thead th {\n",
       "        text-align: right;\n",
       "    }\n",
       "</style>\n",
       "<table border=\"1\" class=\"dataframe\">\n",
       "  <thead>\n",
       "    <tr style=\"text-align: right;\">\n",
       "      <th></th>\n",
       "      <th>S&amp;P_500</th>\n",
       "      <th>Gold</th>\n",
       "      <th>DJIA</th>\n",
       "      <th>NASDAQ</th>\n",
       "      <th>10_Year</th>\n",
       "    </tr>\n",
       "    <tr>\n",
       "      <th>Date</th>\n",
       "      <th></th>\n",
       "      <th></th>\n",
       "      <th></th>\n",
       "      <th></th>\n",
       "      <th></th>\n",
       "    </tr>\n",
       "  </thead>\n",
       "  <tbody>\n",
       "    <tr>\n",
       "      <th>1/1/1971</th>\n",
       "      <td>95.879997</td>\n",
       "      <td>37.868</td>\n",
       "      <td>93.490000</td>\n",
       "      <td>118.870003</td>\n",
       "      <td>6.09</td>\n",
       "    </tr>\n",
       "    <tr>\n",
       "      <th>2/1/1971</th>\n",
       "      <td>96.750000</td>\n",
       "      <td>38.716</td>\n",
       "      <td>101.339996</td>\n",
       "      <td>125.379997</td>\n",
       "      <td>6.14</td>\n",
       "    </tr>\n",
       "    <tr>\n",
       "      <th>3/1/1971</th>\n",
       "      <td>100.309998</td>\n",
       "      <td>38.873</td>\n",
       "      <td>105.970001</td>\n",
       "      <td>128.139999</td>\n",
       "      <td>5.53</td>\n",
       "    </tr>\n",
       "    <tr>\n",
       "      <th>4/1/1971</th>\n",
       "      <td>103.949997</td>\n",
       "      <td>39.001</td>\n",
       "      <td>112.300003</td>\n",
       "      <td>131.330002</td>\n",
       "      <td>6.08</td>\n",
       "    </tr>\n",
       "    <tr>\n",
       "      <th>5/1/1971</th>\n",
       "      <td>99.629997</td>\n",
       "      <td>40.493</td>\n",
       "      <td>108.250000</td>\n",
       "      <td>132.529999</td>\n",
       "      <td>6.38</td>\n",
       "    </tr>\n",
       "  </tbody>\n",
       "</table>\n",
       "</div>"
      ],
      "text/plain": [
       "             S&P_500    Gold        DJIA      NASDAQ  10_Year\n",
       "Date                                                         \n",
       "1/1/1971   95.879997  37.868   93.490000  118.870003     6.09\n",
       "2/1/1971   96.750000  38.716  101.339996  125.379997     6.14\n",
       "3/1/1971  100.309998  38.873  105.970001  128.139999     5.53\n",
       "4/1/1971  103.949997  39.001  112.300003  131.330002     6.08\n",
       "5/1/1971   99.629997  40.493  108.250000  132.529999     6.38"
      ]
     },
     "execution_count": 13,
     "metadata": {},
     "output_type": "execute_result"
    }
   ],
   "source": [
    "mkt_data.head()"
   ]
  },
  {
   "cell_type": "code",
   "execution_count": 14,
   "metadata": {},
   "outputs": [
    {
     "data": {
      "text/html": [
       "<div>\n",
       "<style scoped>\n",
       "    .dataframe tbody tr th:only-of-type {\n",
       "        vertical-align: middle;\n",
       "    }\n",
       "\n",
       "    .dataframe tbody tr th {\n",
       "        vertical-align: top;\n",
       "    }\n",
       "\n",
       "    .dataframe thead th {\n",
       "        text-align: right;\n",
       "    }\n",
       "</style>\n",
       "<table border=\"1\" class=\"dataframe\">\n",
       "  <thead>\n",
       "    <tr style=\"text-align: right;\">\n",
       "      <th></th>\n",
       "      <th>GDP</th>\n",
       "    </tr>\n",
       "    <tr>\n",
       "      <th>DATE</th>\n",
       "      <th></th>\n",
       "    </tr>\n",
       "  </thead>\n",
       "  <tbody>\n",
       "    <tr>\n",
       "      <th>1/1/1947</th>\n",
       "      <td>243.164</td>\n",
       "    </tr>\n",
       "    <tr>\n",
       "      <th>4/1/1947</th>\n",
       "      <td>245.968</td>\n",
       "    </tr>\n",
       "    <tr>\n",
       "      <th>7/1/1947</th>\n",
       "      <td>249.585</td>\n",
       "    </tr>\n",
       "    <tr>\n",
       "      <th>10/1/1947</th>\n",
       "      <td>259.745</td>\n",
       "    </tr>\n",
       "    <tr>\n",
       "      <th>1/1/1948</th>\n",
       "      <td>265.742</td>\n",
       "    </tr>\n",
       "  </tbody>\n",
       "</table>\n",
       "</div>"
      ],
      "text/plain": [
       "               GDP\n",
       "DATE              \n",
       "1/1/1947   243.164\n",
       "4/1/1947   245.968\n",
       "7/1/1947   249.585\n",
       "10/1/1947  259.745\n",
       "1/1/1948   265.742"
      ]
     },
     "execution_count": 14,
     "metadata": {},
     "output_type": "execute_result"
    }
   ],
   "source": [
    "gdp_data.head()"
   ]
  },
  {
   "cell_type": "code",
   "execution_count": 4,
   "metadata": {},
   "outputs": [
    {
     "data": {
      "text/plain": [
       "S&P_500    float64\n",
       "Gold       float64\n",
       "DJIA       float64\n",
       "NASDAQ     float64\n",
       "10_Year    float64\n",
       "dtype: object"
      ]
     },
     "execution_count": 4,
     "metadata": {},
     "output_type": "execute_result"
    }
   ],
   "source": [
    "mkt_data.dtypes\n",
    "\n",
    "#import API data\n",
    "# clean data, check nulls\n",
    "# Use the `dtypes` attribute to output the column names and data types\n",
    "# Use the `rename` function and set the `columns` parameter to a dictionary of new column names\n",
    "\n",
    "\n",
    "\n",
    "\n",
    "\n"
   ]
  },
  {
   "cell_type": "code",
   "execution_count": null,
   "metadata": {},
   "outputs": [],
   "source": []
  }
 ],
 "metadata": {
  "kernelspec": {
   "display_name": "Python 3",
   "language": "python",
   "name": "python3"
  },
  "language_info": {
   "codemirror_mode": {
    "name": "ipython",
    "version": 3
   },
   "file_extension": ".py",
   "mimetype": "text/x-python",
   "name": "python",
   "nbconvert_exporter": "python",
   "pygments_lexer": "ipython3",
   "version": "3.7.7"
  }
 },
 "nbformat": 4,
 "nbformat_minor": 4
}
