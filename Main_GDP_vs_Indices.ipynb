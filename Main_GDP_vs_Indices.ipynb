{
 "cells": [
  {
   "cell_type": "markdown",
   "metadata": {},
   "source": [
    "# GDP -VS- Indices(ETF's)"
   ]
  },
  {
   "cell_type": "markdown",
   "metadata": {},
   "source": [
    "For this project we will use historical data to compare GDP against Indices(ETF's), we will look at a correlation analysis, a regression analysis, a monte carlo simulation and we will use the historical data to generate three portfolio selections for our client Janice.  "
   ]
  },
  {
   "cell_type": "code",
   "execution_count": 1,
   "metadata": {},
   "outputs": [],
   "source": [
    "%%capture\n",
    "# initial imports\n",
    "import os\n",
    "import pandas as pd\n",
    "import seaborn as sns\n",
    "from pathlib import Path"
   ]
  },
  {
   "cell_type": "markdown",
   "metadata": {},
   "source": [
    "# “Flight to Safety” analysis\n",
    "## Correlation of each of the Indices S&P500, Gold, DJIA, NASDAQ, 10_Year."
   ]
  },
  {
   "cell_type": "code",
   "execution_count": 2,
   "metadata": {},
   "outputs": [],
   "source": [
    "#load Data gdp_data, indices_data & ETF_data\n",
    "file_path = Path(\"Data/market_data_modified.csv\")\n",
    "mkt_data = pd.read_csv(file_path, index_col=\"Unnamed: 0\")\n",
    "file_path = Path(\"Data/gdp_data.csv\")\n",
    "gdp_data = pd.read_csv(file_path, index_col=\"Date\")"
   ]
  },
  {
   "cell_type": "code",
   "execution_count": 3,
   "metadata": {},
   "outputs": [
    {
     "data": {
      "text/html": [
       "<div>\n",
       "<style scoped>\n",
       "    .dataframe tbody tr th:only-of-type {\n",
       "        vertical-align: middle;\n",
       "    }\n",
       "\n",
       "    .dataframe tbody tr th {\n",
       "        vertical-align: top;\n",
       "    }\n",
       "\n",
       "    .dataframe thead th {\n",
       "        text-align: right;\n",
       "    }\n",
       "</style>\n",
       "<table border=\"1\" class=\"dataframe\">\n",
       "  <thead>\n",
       "    <tr style=\"text-align: right;\">\n",
       "      <th></th>\n",
       "      <th>S&amp;P500</th>\n",
       "      <th>Gold</th>\n",
       "      <th>DJIA</th>\n",
       "      <th>NASDAQ</th>\n",
       "      <th>10_Year</th>\n",
       "    </tr>\n",
       "  </thead>\n",
       "  <tbody>\n",
       "    <tr>\n",
       "      <th>1/1/1971</th>\n",
       "      <td>95.879997</td>\n",
       "      <td>37.868</td>\n",
       "      <td>93.490000</td>\n",
       "      <td>118.870003</td>\n",
       "      <td>6.09</td>\n",
       "    </tr>\n",
       "    <tr>\n",
       "      <th>2/1/1971</th>\n",
       "      <td>96.750000</td>\n",
       "      <td>38.716</td>\n",
       "      <td>101.339996</td>\n",
       "      <td>125.379997</td>\n",
       "      <td>6.14</td>\n",
       "    </tr>\n",
       "    <tr>\n",
       "      <th>3/1/1971</th>\n",
       "      <td>100.309998</td>\n",
       "      <td>38.873</td>\n",
       "      <td>105.970001</td>\n",
       "      <td>128.139999</td>\n",
       "      <td>5.53</td>\n",
       "    </tr>\n",
       "    <tr>\n",
       "      <th>4/1/1971</th>\n",
       "      <td>103.949997</td>\n",
       "      <td>39.001</td>\n",
       "      <td>112.300003</td>\n",
       "      <td>131.330002</td>\n",
       "      <td>6.08</td>\n",
       "    </tr>\n",
       "    <tr>\n",
       "      <th>5/1/1971</th>\n",
       "      <td>99.629997</td>\n",
       "      <td>40.493</td>\n",
       "      <td>108.250000</td>\n",
       "      <td>132.529999</td>\n",
       "      <td>6.38</td>\n",
       "    </tr>\n",
       "  </tbody>\n",
       "</table>\n",
       "</div>"
      ],
      "text/plain": [
       "              S&P500    Gold        DJIA      NASDAQ  10_Year\n",
       "1/1/1971   95.879997  37.868   93.490000  118.870003     6.09\n",
       "2/1/1971   96.750000  38.716  101.339996  125.379997     6.14\n",
       "3/1/1971  100.309998  38.873  105.970001  128.139999     5.53\n",
       "4/1/1971  103.949997  39.001  112.300003  131.330002     6.08\n",
       "5/1/1971   99.629997  40.493  108.250000  132.529999     6.38"
      ]
     },
     "execution_count": 3,
     "metadata": {},
     "output_type": "execute_result"
    }
   ],
   "source": [
    "# clean data\n",
    "mkt_data.dropna().head()"
   ]
  },
  {
   "cell_type": "code",
   "execution_count": 4,
   "metadata": {},
   "outputs": [
    {
     "data": {
      "text/html": [
       "<div>\n",
       "<style scoped>\n",
       "    .dataframe tbody tr th:only-of-type {\n",
       "        vertical-align: middle;\n",
       "    }\n",
       "\n",
       "    .dataframe tbody tr th {\n",
       "        vertical-align: top;\n",
       "    }\n",
       "\n",
       "    .dataframe thead th {\n",
       "        text-align: right;\n",
       "    }\n",
       "</style>\n",
       "<table border=\"1\" class=\"dataframe\">\n",
       "  <thead>\n",
       "    <tr style=\"text-align: right;\">\n",
       "      <th></th>\n",
       "      <th>S&amp;P500</th>\n",
       "      <th>Gold</th>\n",
       "      <th>DJIA</th>\n",
       "      <th>NASDAQ</th>\n",
       "      <th>10_Year</th>\n",
       "      <th>GDP</th>\n",
       "    </tr>\n",
       "  </thead>\n",
       "  <tbody>\n",
       "    <tr>\n",
       "      <th>1/1/1971</th>\n",
       "      <td>95.879997</td>\n",
       "      <td>37.868</td>\n",
       "      <td>93.490000</td>\n",
       "      <td>118.870003</td>\n",
       "      <td>6.090</td>\n",
       "      <td>1135.156</td>\n",
       "    </tr>\n",
       "    <tr>\n",
       "      <th>4/1/1971</th>\n",
       "      <td>103.949997</td>\n",
       "      <td>39.001</td>\n",
       "      <td>112.300003</td>\n",
       "      <td>131.330002</td>\n",
       "      <td>6.080</td>\n",
       "      <td>1156.271</td>\n",
       "    </tr>\n",
       "    <tr>\n",
       "      <th>7/1/1971</th>\n",
       "      <td>95.580002</td>\n",
       "      <td>40.929</td>\n",
       "      <td>105.269997</td>\n",
       "      <td>127.750000</td>\n",
       "      <td>6.850</td>\n",
       "      <td>1177.675</td>\n",
       "    </tr>\n",
       "    <tr>\n",
       "      <th>1/1/2020</th>\n",
       "      <td>3225.520020</td>\n",
       "      <td>1560.668</td>\n",
       "      <td>9150.940430</td>\n",
       "      <td>28256.029300</td>\n",
       "      <td>1.520</td>\n",
       "      <td>21561.139</td>\n",
       "    </tr>\n",
       "    <tr>\n",
       "      <th>4/1/2020</th>\n",
       "      <td>2912.429932</td>\n",
       "      <td>1680.030</td>\n",
       "      <td>8889.549805</td>\n",
       "      <td>24345.720700</td>\n",
       "      <td>0.622</td>\n",
       "      <td>19520.114</td>\n",
       "    </tr>\n",
       "    <tr>\n",
       "      <th>7/1/2020</th>\n",
       "      <td>3271.120117</td>\n",
       "      <td>1840.807</td>\n",
       "      <td>10745.269530</td>\n",
       "      <td>26428.320310</td>\n",
       "      <td>0.536</td>\n",
       "      <td>21157.635</td>\n",
       "    </tr>\n",
       "  </tbody>\n",
       "</table>\n",
       "</div>"
      ],
      "text/plain": [
       "               S&P500      Gold          DJIA        NASDAQ  10_Year  \\\n",
       "1/1/1971    95.879997    37.868     93.490000    118.870003    6.090   \n",
       "4/1/1971   103.949997    39.001    112.300003    131.330002    6.080   \n",
       "7/1/1971    95.580002    40.929    105.269997    127.750000    6.850   \n",
       "1/1/2020  3225.520020  1560.668   9150.940430  28256.029300    1.520   \n",
       "4/1/2020  2912.429932  1680.030   8889.549805  24345.720700    0.622   \n",
       "7/1/2020  3271.120117  1840.807  10745.269530  26428.320310    0.536   \n",
       "\n",
       "                GDP  \n",
       "1/1/1971   1135.156  \n",
       "4/1/1971   1156.271  \n",
       "7/1/1971   1177.675  \n",
       "1/1/2020  21561.139  \n",
       "4/1/2020  19520.114  \n",
       "7/1/2020  21157.635  "
      ]
     },
     "execution_count": 4,
     "metadata": {},
     "output_type": "execute_result"
    }
   ],
   "source": [
    "# concat market data and gdp data\n",
    "combined_df_indices = pd.concat([mkt_data, gdp_data], axis=\"columns\", join=\"inner\")\n",
    "# view data head and tail to veryfy concatanation \n",
    "combined_df_indices.head(3).append(combined_df_indices.tail(3))"
   ]
  },
  {
   "cell_type": "code",
   "execution_count": 5,
   "metadata": {},
   "outputs": [
    {
     "data": {
      "text/html": [
       "<div>\n",
       "<style scoped>\n",
       "    .dataframe tbody tr th:only-of-type {\n",
       "        vertical-align: middle;\n",
       "    }\n",
       "\n",
       "    .dataframe tbody tr th {\n",
       "        vertical-align: top;\n",
       "    }\n",
       "\n",
       "    .dataframe thead th {\n",
       "        text-align: right;\n",
       "    }\n",
       "</style>\n",
       "<table border=\"1\" class=\"dataframe\">\n",
       "  <thead>\n",
       "    <tr style=\"text-align: right;\">\n",
       "      <th></th>\n",
       "      <th>S&amp;P500</th>\n",
       "      <th>Gold</th>\n",
       "      <th>DJIA</th>\n",
       "      <th>NASDAQ</th>\n",
       "      <th>10_Year</th>\n",
       "      <th>GDP</th>\n",
       "    </tr>\n",
       "  </thead>\n",
       "  <tbody>\n",
       "    <tr>\n",
       "      <th>S&amp;P500</th>\n",
       "      <td>1.000000</td>\n",
       "      <td>0.782197</td>\n",
       "      <td>0.978638</td>\n",
       "      <td>0.817103</td>\n",
       "      <td>-0.794593</td>\n",
       "      <td>0.950650</td>\n",
       "    </tr>\n",
       "    <tr>\n",
       "      <th>Gold</th>\n",
       "      <td>0.782197</td>\n",
       "      <td>1.000000</td>\n",
       "      <td>0.781120</td>\n",
       "      <td>0.679881</td>\n",
       "      <td>-0.652561</td>\n",
       "      <td>0.851478</td>\n",
       "    </tr>\n",
       "    <tr>\n",
       "      <th>DJIA</th>\n",
       "      <td>0.978638</td>\n",
       "      <td>0.781120</td>\n",
       "      <td>1.000000</td>\n",
       "      <td>0.879229</td>\n",
       "      <td>-0.728050</td>\n",
       "      <td>0.892884</td>\n",
       "    </tr>\n",
       "    <tr>\n",
       "      <th>NASDAQ</th>\n",
       "      <td>0.817103</td>\n",
       "      <td>0.679881</td>\n",
       "      <td>0.879229</td>\n",
       "      <td>1.000000</td>\n",
       "      <td>-0.588278</td>\n",
       "      <td>0.707506</td>\n",
       "    </tr>\n",
       "    <tr>\n",
       "      <th>10_Year</th>\n",
       "      <td>-0.794593</td>\n",
       "      <td>-0.652561</td>\n",
       "      <td>-0.728050</td>\n",
       "      <td>-0.588278</td>\n",
       "      <td>1.000000</td>\n",
       "      <td>-0.828459</td>\n",
       "    </tr>\n",
       "    <tr>\n",
       "      <th>GDP</th>\n",
       "      <td>0.950650</td>\n",
       "      <td>0.851478</td>\n",
       "      <td>0.892884</td>\n",
       "      <td>0.707506</td>\n",
       "      <td>-0.828459</td>\n",
       "      <td>1.000000</td>\n",
       "    </tr>\n",
       "  </tbody>\n",
       "</table>\n",
       "</div>"
      ],
      "text/plain": [
       "           S&P500      Gold      DJIA    NASDAQ   10_Year       GDP\n",
       "S&P500   1.000000  0.782197  0.978638  0.817103 -0.794593  0.950650\n",
       "Gold     0.782197  1.000000  0.781120  0.679881 -0.652561  0.851478\n",
       "DJIA     0.978638  0.781120  1.000000  0.879229 -0.728050  0.892884\n",
       "NASDAQ   0.817103  0.679881  0.879229  1.000000 -0.588278  0.707506\n",
       "10_Year -0.794593 -0.652561 -0.728050 -0.588278  1.000000 -0.828459\n",
       "GDP      0.950650  0.851478  0.892884  0.707506 -0.828459  1.000000"
      ]
     },
     "execution_count": 5,
     "metadata": {},
     "output_type": "execute_result"
    }
   ],
   "source": [
    "# Calculate the correlation between each column\n",
    "correlation = combined_df_indices.corr()\n",
    "correlation"
   ]
  },
  {
   "cell_type": "code",
   "execution_count": 6,
   "metadata": {},
   "outputs": [
    {
     "data": {
      "text/plain": [
       "<AxesSubplot:>"
      ]
     },
     "execution_count": 6,
     "metadata": {},
     "output_type": "execute_result"
    },
    {
     "data": {
      "image/png": "[encoded data removed]",
      "text/plain": [
       "<Figure size 432x288 with 2 Axes>"
      ]
     },
     "metadata": {
      "needs_background": "light"
     },
     "output_type": "display_data"
    }
   ],
   "source": [
    "# Use the `heatmap` function from the Seaborn library to visualize correlations\n",
    "sns.heatmap(correlation, vmin=-1, vmax=1)"
   ]
  },
  {
   "cell_type": "markdown",
   "metadata": {},
   "source": [
    "## Correlations of each of the ETF's SPY, DIA, QQQ, GLD, IEF."
   ]
  },
  {
   "cell_type": "code",
   "execution_count": 7,
   "metadata": {},
   "outputs": [
    {
     "data": {
      "text/plain": [
       "True"
      ]
     },
     "execution_count": 7,
     "metadata": {},
     "output_type": "execute_result"
    }
   ],
   "source": [
    "# additional imports\n",
    "import alpaca_trade_api as tradeapi\n",
    "from dotenv import load_dotenv\n",
    "\n",
    " # Load .env enviroment variables\n",
    "load_dotenv()"
   ]
  },
  {
   "cell_type": "code",
   "execution_count": 8,
   "metadata": {},
   "outputs": [],
   "source": [
    "# Set Alpaca API key and secret\n",
    "alpaca_api_key = os.getenv(\"ALPACA_API_KEY\")\n",
    "alpaca_secret_key = os.getenv(\"ALPACA_SECRET_KEY\")\n",
    "\n",
    "# Create the Alpaca API object\n",
    "api = tradeapi.REST(\n",
    "    alpaca_api_key,\n",
    "    alpaca_secret_key,\n",
    "    api_version = \"v2\"\n",
    ")"
   ]
  },
  {
   "cell_type": "code",
   "execution_count": 9,
   "metadata": {},
   "outputs": [
    {
     "data": {
      "text/html": [
       "<div>\n",
       "<style scoped>\n",
       "    .dataframe tbody tr th:only-of-type {\n",
       "        vertical-align: middle;\n",
       "    }\n",
       "\n",
       "    .dataframe tbody tr th {\n",
       "        vertical-align: top;\n",
       "    }\n",
       "\n",
       "    .dataframe thead tr th {\n",
       "        text-align: left;\n",
       "    }\n",
       "</style>\n",
       "<table border=\"1\" class=\"dataframe\">\n",
       "  <thead>\n",
       "    <tr>\n",
       "      <th></th>\n",
       "      <th colspan=\"5\" halign=\"left\">DIA</th>\n",
       "      <th colspan=\"5\" halign=\"left\">GLD</th>\n",
       "      <th>...</th>\n",
       "      <th colspan=\"5\" halign=\"left\">QQQ</th>\n",
       "      <th colspan=\"5\" halign=\"left\">SPY</th>\n",
       "    </tr>\n",
       "    <tr>\n",
       "      <th></th>\n",
       "      <th>open</th>\n",
       "      <th>high</th>\n",
       "      <th>low</th>\n",
       "      <th>close</th>\n",
       "      <th>volume</th>\n",
       "      <th>open</th>\n",
       "      <th>high</th>\n",
       "      <th>low</th>\n",
       "      <th>close</th>\n",
       "      <th>volume</th>\n",
       "      <th>...</th>\n",
       "      <th>open</th>\n",
       "      <th>high</th>\n",
       "      <th>low</th>\n",
       "      <th>close</th>\n",
       "      <th>volume</th>\n",
       "      <th>open</th>\n",
       "      <th>high</th>\n",
       "      <th>low</th>\n",
       "      <th>close</th>\n",
       "      <th>volume</th>\n",
       "    </tr>\n",
       "  </thead>\n",
       "  <tbody>\n",
       "    <tr>\n",
       "      <th>2008-01-02</th>\n",
       "      <td>132.47</td>\n",
       "      <td>132.67</td>\n",
       "      <td>129.82</td>\n",
       "      <td>130.38</td>\n",
       "      <td>14555063</td>\n",
       "      <td>83.56</td>\n",
       "      <td>85.14</td>\n",
       "      <td>83.44</td>\n",
       "      <td>84.84</td>\n",
       "      <td>11975400</td>\n",
       "      <td>...</td>\n",
       "      <td>51.27</td>\n",
       "      <td>51.47</td>\n",
       "      <td>50.13</td>\n",
       "      <td>50.41</td>\n",
       "      <td>149569531</td>\n",
       "      <td>146.53</td>\n",
       "      <td>146.99</td>\n",
       "      <td>143.88</td>\n",
       "      <td>144.55</td>\n",
       "      <td>175801806</td>\n",
       "    </tr>\n",
       "    <tr>\n",
       "      <th>2008-01-03</th>\n",
       "      <td>130.69</td>\n",
       "      <td>131.27</td>\n",
       "      <td>130.13</td>\n",
       "      <td>130.46</td>\n",
       "      <td>7867911</td>\n",
       "      <td>84.87</td>\n",
       "      <td>85.94</td>\n",
       "      <td>84.60</td>\n",
       "      <td>85.53</td>\n",
       "      <td>9079600</td>\n",
       "      <td>...</td>\n",
       "      <td>50.39</td>\n",
       "      <td>50.76</td>\n",
       "      <td>50.15</td>\n",
       "      <td>50.43</td>\n",
       "      <td>104746815</td>\n",
       "      <td>144.92</td>\n",
       "      <td>145.49</td>\n",
       "      <td>144.12</td>\n",
       "      <td>144.46</td>\n",
       "      <td>111357758</td>\n",
       "    </tr>\n",
       "    <tr>\n",
       "      <th>2008-01-04</th>\n",
       "      <td>129.57</td>\n",
       "      <td>129.73</td>\n",
       "      <td>98.92</td>\n",
       "      <td>98.94</td>\n",
       "      <td>15489641</td>\n",
       "      <td>85.38</td>\n",
       "      <td>85.55</td>\n",
       "      <td>84.43</td>\n",
       "      <td>85.11</td>\n",
       "      <td>7676100</td>\n",
       "      <td>...</td>\n",
       "      <td>49.79</td>\n",
       "      <td>49.83</td>\n",
       "      <td>48.25</td>\n",
       "      <td>48.28</td>\n",
       "      <td>193237479</td>\n",
       "      <td>143.34</td>\n",
       "      <td>143.44</td>\n",
       "      <td>140.92</td>\n",
       "      <td>140.93</td>\n",
       "      <td>195945264</td>\n",
       "    </tr>\n",
       "    <tr>\n",
       "      <th>2008-01-07</th>\n",
       "      <td>99.06</td>\n",
       "      <td>128.62</td>\n",
       "      <td>98.08</td>\n",
       "      <td>128.26</td>\n",
       "      <td>22119983</td>\n",
       "      <td>85.24</td>\n",
       "      <td>85.26</td>\n",
       "      <td>84.57</td>\n",
       "      <td>84.77</td>\n",
       "      <td>6331500</td>\n",
       "      <td>...</td>\n",
       "      <td>48.41</td>\n",
       "      <td>48.68</td>\n",
       "      <td>47.43</td>\n",
       "      <td>48.17</td>\n",
       "      <td>220176338</td>\n",
       "      <td>141.81</td>\n",
       "      <td>142.23</td>\n",
       "      <td>140.10</td>\n",
       "      <td>141.46</td>\n",
       "      <td>220398905</td>\n",
       "    </tr>\n",
       "    <tr>\n",
       "      <th>2008-01-08</th>\n",
       "      <td>128.53</td>\n",
       "      <td>129.00</td>\n",
       "      <td>97.05</td>\n",
       "      <td>97.15</td>\n",
       "      <td>23484347</td>\n",
       "      <td>86.25</td>\n",
       "      <td>87.13</td>\n",
       "      <td>86.16</td>\n",
       "      <td>86.77</td>\n",
       "      <td>8969400</td>\n",
       "      <td>...</td>\n",
       "      <td>48.29</td>\n",
       "      <td>48.76</td>\n",
       "      <td>46.97</td>\n",
       "      <td>46.98</td>\n",
       "      <td>236721448</td>\n",
       "      <td>142.10</td>\n",
       "      <td>142.90</td>\n",
       "      <td>138.63</td>\n",
       "      <td>138.81</td>\n",
       "      <td>303249870</td>\n",
       "    </tr>\n",
       "  </tbody>\n",
       "</table>\n",
       "<p>5 rows × 25 columns</p>\n",
       "</div>"
      ],
      "text/plain": [
       "               DIA                                      GLD                \\\n",
       "              open    high     low   close    volume   open   high    low   \n",
       "2008-01-02  132.47  132.67  129.82  130.38  14555063  83.56  85.14  83.44   \n",
       "2008-01-03  130.69  131.27  130.13  130.46   7867911  84.87  85.94  84.60   \n",
       "2008-01-04  129.57  129.73   98.92   98.94  15489641  85.38  85.55  84.43   \n",
       "2008-01-07   99.06  128.62   98.08  128.26  22119983  85.24  85.26  84.57   \n",
       "2008-01-08  128.53  129.00   97.05   97.15  23484347  86.25  87.13  86.16   \n",
       "\n",
       "                             ...    QQQ                                  \\\n",
       "            close    volume  ...   open   high    low  close     volume   \n",
       "2008-01-02  84.84  11975400  ...  51.27  51.47  50.13  50.41  149569531   \n",
       "2008-01-03  85.53   9079600  ...  50.39  50.76  50.15  50.43  104746815   \n",
       "2008-01-04  85.11   7676100  ...  49.79  49.83  48.25  48.28  193237479   \n",
       "2008-01-07  84.77   6331500  ...  48.41  48.68  47.43  48.17  220176338   \n",
       "2008-01-08  86.77   8969400  ...  48.29  48.76  46.97  46.98  236721448   \n",
       "\n",
       "               SPY                                     \n",
       "              open    high     low   close     volume  \n",
       "2008-01-02  146.53  146.99  143.88  144.55  175801806  \n",
       "2008-01-03  144.92  145.49  144.12  144.46  111357758  \n",
       "2008-01-04  143.34  143.44  140.92  140.93  195945264  \n",
       "2008-01-07  141.81  142.23  140.10  141.46  220398905  \n",
       "2008-01-08  142.10  142.90  138.63  138.81  303249870  \n",
       "\n",
       "[5 rows x 25 columns]"
      ]
     },
     "execution_count": 9,
     "metadata": {},
     "output_type": "execute_result"
    }
   ],
   "source": [
    "# Set timeframe to '1D' for Alpaca API\n",
    "timeframe = \"1D\"\n",
    "\n",
    "# Set alpaca_api_key and secret\n",
    "start_date = pd.Timestamp(\"2004-11-08\", tz=\"America/New_York\").isoformat()\n",
    "end_date = pd.Timestamp(\"2020-11-01\", tz=\"America/New_York\").isoformat()\n",
    "\n",
    "# Set the tickers\n",
    "tickers = [\"SPY\",\"DIA\",\"QQQ\",\"GLD\",\"IEF\"]\n",
    "\n",
    "# Get closing prices for \"SPY\",\"DIA\",\"QQQ\",\"GLD\",\"IEF\"\n",
    "df_ticker = api.get_barset(\n",
    "    tickers,\n",
    "    timeframe,\n",
    "    start=start_date,\n",
    "    end=end_date\n",
    ").df\n",
    "\n",
    "df_ticker.index=df_ticker.index.date\n",
    "df_ticker.head()"
   ]
  },
  {
   "cell_type": "code",
   "execution_count": 10,
   "metadata": {},
   "outputs": [],
   "source": [
    "# set variables for indices\n",
    "dia = df_ticker['DIA']\n",
    "qqq = df_ticker['QQQ']\n",
    "gld = df_ticker['GLD']\n",
    "ief = df_ticker['IEF']\n",
    "spy = df_ticker['SPY']"
   ]
  },
  {
   "cell_type": "code",
   "execution_count": 11,
   "metadata": {},
   "outputs": [
    {
     "data": {
      "text/html": [
       "<div>\n",
       "<style scoped>\n",
       "    .dataframe tbody tr th:only-of-type {\n",
       "        vertical-align: middle;\n",
       "    }\n",
       "\n",
       "    .dataframe tbody tr th {\n",
       "        vertical-align: top;\n",
       "    }\n",
       "\n",
       "    .dataframe thead th {\n",
       "        text-align: right;\n",
       "    }\n",
       "</style>\n",
       "<table border=\"1\" class=\"dataframe\">\n",
       "  <thead>\n",
       "    <tr style=\"text-align: right;\">\n",
       "      <th></th>\n",
       "      <th>open</th>\n",
       "      <th>high</th>\n",
       "      <th>low</th>\n",
       "      <th>close</th>\n",
       "      <th>volume</th>\n",
       "    </tr>\n",
       "  </thead>\n",
       "  <tbody>\n",
       "    <tr>\n",
       "      <th>2008-01-02</th>\n",
       "      <td>132.47</td>\n",
       "      <td>132.67</td>\n",
       "      <td>129.82</td>\n",
       "      <td>130.38</td>\n",
       "      <td>14555063</td>\n",
       "    </tr>\n",
       "    <tr>\n",
       "      <th>2008-01-03</th>\n",
       "      <td>130.69</td>\n",
       "      <td>131.27</td>\n",
       "      <td>130.13</td>\n",
       "      <td>130.46</td>\n",
       "      <td>7867911</td>\n",
       "    </tr>\n",
       "    <tr>\n",
       "      <th>2008-01-04</th>\n",
       "      <td>129.57</td>\n",
       "      <td>129.73</td>\n",
       "      <td>98.92</td>\n",
       "      <td>98.94</td>\n",
       "      <td>15489641</td>\n",
       "    </tr>\n",
       "    <tr>\n",
       "      <th>2008-01-07</th>\n",
       "      <td>99.06</td>\n",
       "      <td>128.62</td>\n",
       "      <td>98.08</td>\n",
       "      <td>128.26</td>\n",
       "      <td>22119983</td>\n",
       "    </tr>\n",
       "    <tr>\n",
       "      <th>2008-01-08</th>\n",
       "      <td>128.53</td>\n",
       "      <td>129.00</td>\n",
       "      <td>97.05</td>\n",
       "      <td>97.15</td>\n",
       "      <td>23484347</td>\n",
       "    </tr>\n",
       "  </tbody>\n",
       "</table>\n",
       "</div>"
      ],
      "text/plain": [
       "              open    high     low   close    volume\n",
       "2008-01-02  132.47  132.67  129.82  130.38  14555063\n",
       "2008-01-03  130.69  131.27  130.13  130.46   7867911\n",
       "2008-01-04  129.57  129.73   98.92   98.94  15489641\n",
       "2008-01-07   99.06  128.62   98.08  128.26  22119983\n",
       "2008-01-08  128.53  129.00   97.05   97.15  23484347"
      ]
     },
     "execution_count": 11,
     "metadata": {},
     "output_type": "execute_result"
    }
   ],
   "source": [
    "# display one of the indices to verify data\n",
    "dia.head(5)"
   ]
  },
  {
   "cell_type": "code",
   "execution_count": 12,
   "metadata": {},
   "outputs": [],
   "source": [
    "# Use the `drop` function to delete columns\n",
    "dia = dia.drop(columns=['low','high','open','volume'])\n",
    "qqq = qqq.drop(columns=['low','high','open','volume'])\n",
    "gld = gld.drop(columns=[\"low\", \"high\",\"open\",\"volume\"])\n",
    "ief = ief.drop(columns=['low','high','open','volume'])\n",
    "spy = spy.drop(columns=['low','high','open','volume'])"
   ]
  },
  {
   "cell_type": "code",
   "execution_count": 13,
   "metadata": {},
   "outputs": [
    {
     "data": {
      "text/html": [
       "<div>\n",
       "<style scoped>\n",
       "    .dataframe tbody tr th:only-of-type {\n",
       "        vertical-align: middle;\n",
       "    }\n",
       "\n",
       "    .dataframe tbody tr th {\n",
       "        vertical-align: top;\n",
       "    }\n",
       "\n",
       "    .dataframe thead th {\n",
       "        text-align: right;\n",
       "    }\n",
       "</style>\n",
       "<table border=\"1\" class=\"dataframe\">\n",
       "  <thead>\n",
       "    <tr style=\"text-align: right;\">\n",
       "      <th></th>\n",
       "      <th>close</th>\n",
       "    </tr>\n",
       "  </thead>\n",
       "  <tbody>\n",
       "    <tr>\n",
       "      <th>2008-01-02</th>\n",
       "      <td>130.38</td>\n",
       "    </tr>\n",
       "    <tr>\n",
       "      <th>2008-01-03</th>\n",
       "      <td>130.46</td>\n",
       "    </tr>\n",
       "    <tr>\n",
       "      <th>2008-01-04</th>\n",
       "      <td>98.94</td>\n",
       "    </tr>\n",
       "    <tr>\n",
       "      <th>2008-01-07</th>\n",
       "      <td>128.26</td>\n",
       "    </tr>\n",
       "    <tr>\n",
       "      <th>2008-01-08</th>\n",
       "      <td>97.15</td>\n",
       "    </tr>\n",
       "  </tbody>\n",
       "</table>\n",
       "</div>"
      ],
      "text/plain": [
       "             close\n",
       "2008-01-02  130.38\n",
       "2008-01-03  130.46\n",
       "2008-01-04   98.94\n",
       "2008-01-07  128.26\n",
       "2008-01-08   97.15"
      ]
     },
     "execution_count": 13,
     "metadata": {},
     "output_type": "execute_result"
    }
   ],
   "source": [
    "# display one of the indices to verify data\n",
    "dia.head()"
   ]
  },
  {
   "cell_type": "code",
   "execution_count": 14,
   "metadata": {},
   "outputs": [],
   "source": [
    "#use the 'rename' function to remane close columns\n",
    "dia = dia.rename(columns={\"close\": \"DIA\",})\n",
    "qqq = qqq.rename(columns={\"close\": \"QQQ\",})\n",
    "gld = gld.rename(columns={\"close\": \"GLD\",})\n",
    "ief = ief.rename(columns={\"close\": \"IEF\",})\n",
    "spy = spy.rename(columns={\"close\": \"SPY\",})"
   ]
  },
  {
   "cell_type": "code",
   "execution_count": 15,
   "metadata": {},
   "outputs": [
    {
     "data": {
      "text/html": [
       "<div>\n",
       "<style scoped>\n",
       "    .dataframe tbody tr th:only-of-type {\n",
       "        vertical-align: middle;\n",
       "    }\n",
       "\n",
       "    .dataframe tbody tr th {\n",
       "        vertical-align: top;\n",
       "    }\n",
       "\n",
       "    .dataframe thead th {\n",
       "        text-align: right;\n",
       "    }\n",
       "</style>\n",
       "<table border=\"1\" class=\"dataframe\">\n",
       "  <thead>\n",
       "    <tr style=\"text-align: right;\">\n",
       "      <th></th>\n",
       "      <th>DIA</th>\n",
       "    </tr>\n",
       "  </thead>\n",
       "  <tbody>\n",
       "    <tr>\n",
       "      <th>2008-01-02</th>\n",
       "      <td>130.38</td>\n",
       "    </tr>\n",
       "    <tr>\n",
       "      <th>2008-01-03</th>\n",
       "      <td>130.46</td>\n",
       "    </tr>\n",
       "    <tr>\n",
       "      <th>2008-01-04</th>\n",
       "      <td>98.94</td>\n",
       "    </tr>\n",
       "    <tr>\n",
       "      <th>2008-01-07</th>\n",
       "      <td>128.26</td>\n",
       "    </tr>\n",
       "    <tr>\n",
       "      <th>2008-01-08</th>\n",
       "      <td>97.15</td>\n",
       "    </tr>\n",
       "  </tbody>\n",
       "</table>\n",
       "</div>"
      ],
      "text/plain": [
       "               DIA\n",
       "2008-01-02  130.38\n",
       "2008-01-03  130.46\n",
       "2008-01-04   98.94\n",
       "2008-01-07  128.26\n",
       "2008-01-08   97.15"
      ]
     },
     "execution_count": 15,
     "metadata": {},
     "output_type": "execute_result"
    }
   ],
   "source": [
    "# display .head() to verify name change\n",
    "dia.head()"
   ]
  },
  {
   "cell_type": "code",
   "execution_count": 16,
   "metadata": {},
   "outputs": [
    {
     "data": {
      "text/html": [
       "<div>\n",
       "<style scoped>\n",
       "    .dataframe tbody tr th:only-of-type {\n",
       "        vertical-align: middle;\n",
       "    }\n",
       "\n",
       "    .dataframe tbody tr th {\n",
       "        vertical-align: top;\n",
       "    }\n",
       "\n",
       "    .dataframe thead th {\n",
       "        text-align: right;\n",
       "    }\n",
       "</style>\n",
       "<table border=\"1\" class=\"dataframe\">\n",
       "  <thead>\n",
       "    <tr style=\"text-align: right;\">\n",
       "      <th></th>\n",
       "      <th>SPY</th>\n",
       "      <th>GLD</th>\n",
       "      <th>QQQ</th>\n",
       "      <th>IEF</th>\n",
       "      <th>DIA</th>\n",
       "    </tr>\n",
       "  </thead>\n",
       "  <tbody>\n",
       "    <tr>\n",
       "      <th>2008-01-02</th>\n",
       "      <td>144.55</td>\n",
       "      <td>84.84</td>\n",
       "      <td>50.41</td>\n",
       "      <td>87.65</td>\n",
       "      <td>130.38</td>\n",
       "    </tr>\n",
       "    <tr>\n",
       "      <th>2008-01-03</th>\n",
       "      <td>144.46</td>\n",
       "      <td>85.53</td>\n",
       "      <td>50.43</td>\n",
       "      <td>87.77</td>\n",
       "      <td>130.46</td>\n",
       "    </tr>\n",
       "    <tr>\n",
       "      <th>2008-01-04</th>\n",
       "      <td>140.93</td>\n",
       "      <td>85.11</td>\n",
       "      <td>48.28</td>\n",
       "      <td>87.99</td>\n",
       "      <td>98.94</td>\n",
       "    </tr>\n",
       "    <tr>\n",
       "      <th>2008-01-07</th>\n",
       "      <td>141.46</td>\n",
       "      <td>84.77</td>\n",
       "      <td>48.17</td>\n",
       "      <td>88.23</td>\n",
       "      <td>128.26</td>\n",
       "    </tr>\n",
       "    <tr>\n",
       "      <th>2008-01-08</th>\n",
       "      <td>138.81</td>\n",
       "      <td>86.77</td>\n",
       "      <td>46.98</td>\n",
       "      <td>88.39</td>\n",
       "      <td>97.15</td>\n",
       "    </tr>\n",
       "  </tbody>\n",
       "</table>\n",
       "</div>"
      ],
      "text/plain": [
       "               SPY    GLD    QQQ    IEF     DIA\n",
       "2008-01-02  144.55  84.84  50.41  87.65  130.38\n",
       "2008-01-03  144.46  85.53  50.43  87.77  130.46\n",
       "2008-01-04  140.93  85.11  48.28  87.99   98.94\n",
       "2008-01-07  141.46  84.77  48.17  88.23  128.26\n",
       "2008-01-08  138.81  86.77  46.98  88.39   97.15"
      ]
     },
     "execution_count": 16,
     "metadata": {},
     "output_type": "execute_result"
    }
   ],
   "source": [
    "# concat ETF's\n",
    "combined_df = pd.concat([spy, gld, qqq, ief, dia], axis=\"columns\", join=\"inner\")\n",
    "combined_df.head()"
   ]
  },
  {
   "cell_type": "code",
   "execution_count": 17,
   "metadata": {},
   "outputs": [
    {
     "data": {
      "text/html": [
       "<div>\n",
       "<style scoped>\n",
       "    .dataframe tbody tr th:only-of-type {\n",
       "        vertical-align: middle;\n",
       "    }\n",
       "\n",
       "    .dataframe tbody tr th {\n",
       "        vertical-align: top;\n",
       "    }\n",
       "\n",
       "    .dataframe thead th {\n",
       "        text-align: right;\n",
       "    }\n",
       "</style>\n",
       "<table border=\"1\" class=\"dataframe\">\n",
       "  <thead>\n",
       "    <tr style=\"text-align: right;\">\n",
       "      <th></th>\n",
       "      <th>SPY</th>\n",
       "      <th>GLD</th>\n",
       "      <th>QQQ</th>\n",
       "      <th>IEF</th>\n",
       "      <th>DIA</th>\n",
       "    </tr>\n",
       "  </thead>\n",
       "  <tbody>\n",
       "    <tr>\n",
       "      <th>SPY</th>\n",
       "      <td>1.000000</td>\n",
       "      <td>0.274478</td>\n",
       "      <td>0.973994</td>\n",
       "      <td>0.714571</td>\n",
       "      <td>0.987969</td>\n",
       "    </tr>\n",
       "    <tr>\n",
       "      <th>GLD</th>\n",
       "      <td>0.274478</td>\n",
       "      <td>1.000000</td>\n",
       "      <td>0.354761</td>\n",
       "      <td>0.628643</td>\n",
       "      <td>0.273540</td>\n",
       "    </tr>\n",
       "    <tr>\n",
       "      <th>QQQ</th>\n",
       "      <td>0.973994</td>\n",
       "      <td>0.354761</td>\n",
       "      <td>1.000000</td>\n",
       "      <td>0.737030</td>\n",
       "      <td>0.959517</td>\n",
       "    </tr>\n",
       "    <tr>\n",
       "      <th>IEF</th>\n",
       "      <td>0.714571</td>\n",
       "      <td>0.628643</td>\n",
       "      <td>0.737030</td>\n",
       "      <td>1.000000</td>\n",
       "      <td>0.679838</td>\n",
       "    </tr>\n",
       "    <tr>\n",
       "      <th>DIA</th>\n",
       "      <td>0.987969</td>\n",
       "      <td>0.273540</td>\n",
       "      <td>0.959517</td>\n",
       "      <td>0.679838</td>\n",
       "      <td>1.000000</td>\n",
       "    </tr>\n",
       "  </tbody>\n",
       "</table>\n",
       "</div>"
      ],
      "text/plain": [
       "          SPY       GLD       QQQ       IEF       DIA\n",
       "SPY  1.000000  0.274478  0.973994  0.714571  0.987969\n",
       "GLD  0.274478  1.000000  0.354761  0.628643  0.273540\n",
       "QQQ  0.973994  0.354761  1.000000  0.737030  0.959517\n",
       "IEF  0.714571  0.628643  0.737030  1.000000  0.679838\n",
       "DIA  0.987969  0.273540  0.959517  0.679838  1.000000"
      ]
     },
     "execution_count": 17,
     "metadata": {},
     "output_type": "execute_result"
    }
   ],
   "source": [
    "# Calculate the correlation between each column\n",
    "correlation_etf = combined_df.corr()\n",
    "correlation_etf"
   ]
  },
  {
   "cell_type": "code",
   "execution_count": 18,
   "metadata": {},
   "outputs": [
    {
     "data": {
      "text/plain": [
       "<AxesSubplot:>"
      ]
     },
     "execution_count": 18,
     "metadata": {},
     "output_type": "execute_result"
    },
    {
     "data": {
      "image/png": "[encoded data removed]",
      "text/plain": [
       "<Figure size 432x288 with 2 Axes>"
      ]
     },
     "metadata": {
      "needs_background": "light"
     },
     "output_type": "display_data"
    }
   ],
   "source": [
    "# Use the `heatmap` function from the Seaborn library to visualize correlations\n",
    "sns.heatmap(correlation_etf, vmin=-1, vmax=1)"
   ]
  },
  {
   "cell_type": "markdown",
   "metadata": {},
   "source": [
    "# “Flight to Safety” analysis:\n",
    "Correlation of gold to the s&p500"
   ]
  },
  {
   "cell_type": "code",
   "execution_count": 19,
   "metadata": {},
   "outputs": [
    {
     "data": {
      "text/html": [
       "<div>\n",
       "<style scoped>\n",
       "    .dataframe tbody tr th:only-of-type {\n",
       "        vertical-align: middle;\n",
       "    }\n",
       "\n",
       "    .dataframe tbody tr th {\n",
       "        vertical-align: top;\n",
       "    }\n",
       "\n",
       "    .dataframe thead th {\n",
       "        text-align: right;\n",
       "    }\n",
       "</style>\n",
       "<table border=\"1\" class=\"dataframe\">\n",
       "  <thead>\n",
       "    <tr style=\"text-align: right;\">\n",
       "      <th></th>\n",
       "      <th>S&amp;P500</th>\n",
       "      <th>Gold</th>\n",
       "      <th>DJIA</th>\n",
       "      <th>NASDAQ</th>\n",
       "      <th>10_Year</th>\n",
       "      <th>GDP</th>\n",
       "    </tr>\n",
       "  </thead>\n",
       "  <tbody>\n",
       "    <tr>\n",
       "      <th>1/1/1971</th>\n",
       "      <td>95.879997</td>\n",
       "      <td>37.868</td>\n",
       "      <td>93.490000</td>\n",
       "      <td>118.870003</td>\n",
       "      <td>6.09</td>\n",
       "      <td>1135.156</td>\n",
       "    </tr>\n",
       "    <tr>\n",
       "      <th>4/1/1971</th>\n",
       "      <td>103.949997</td>\n",
       "      <td>39.001</td>\n",
       "      <td>112.300003</td>\n",
       "      <td>131.330002</td>\n",
       "      <td>6.08</td>\n",
       "      <td>1156.271</td>\n",
       "    </tr>\n",
       "    <tr>\n",
       "      <th>7/1/1971</th>\n",
       "      <td>95.580002</td>\n",
       "      <td>40.929</td>\n",
       "      <td>105.269997</td>\n",
       "      <td>127.750000</td>\n",
       "      <td>6.85</td>\n",
       "      <td>1177.675</td>\n",
       "    </tr>\n",
       "    <tr>\n",
       "      <th>10/1/1971</th>\n",
       "      <td>94.230003</td>\n",
       "      <td>42.473</td>\n",
       "      <td>105.099998</td>\n",
       "      <td>130.240005</td>\n",
       "      <td>5.87</td>\n",
       "      <td>1190.297</td>\n",
       "    </tr>\n",
       "    <tr>\n",
       "      <th>1/1/1972</th>\n",
       "      <td>103.940002</td>\n",
       "      <td>45.640</td>\n",
       "      <td>118.870003</td>\n",
       "      <td>128.399994</td>\n",
       "      <td>6.09</td>\n",
       "      <td>1230.609</td>\n",
       "    </tr>\n",
       "  </tbody>\n",
       "</table>\n",
       "</div>"
      ],
      "text/plain": [
       "               S&P500    Gold        DJIA      NASDAQ  10_Year       GDP\n",
       "1/1/1971    95.879997  37.868   93.490000  118.870003     6.09  1135.156\n",
       "4/1/1971   103.949997  39.001  112.300003  131.330002     6.08  1156.271\n",
       "7/1/1971    95.580002  40.929  105.269997  127.750000     6.85  1177.675\n",
       "10/1/1971   94.230003  42.473  105.099998  130.240005     5.87  1190.297\n",
       "1/1/1972   103.940002  45.640  118.870003  128.399994     6.09  1230.609"
      ]
     },
     "execution_count": 19,
     "metadata": {},
     "output_type": "execute_result"
    }
   ],
   "source": [
    "# display concated data\n",
    "combined_df_indices.head()"
   ]
  },
  {
   "cell_type": "code",
   "execution_count": 41,
   "metadata": {},
   "outputs": [
    {
     "data": {
      "text/html": [
       "<div>\n",
       "<style scoped>\n",
       "    .dataframe tbody tr th:only-of-type {\n",
       "        vertical-align: middle;\n",
       "    }\n",
       "\n",
       "    .dataframe tbody tr th {\n",
       "        vertical-align: top;\n",
       "    }\n",
       "\n",
       "    .dataframe thead th {\n",
       "        text-align: right;\n",
       "    }\n",
       "</style>\n",
       "<table border=\"1\" class=\"dataframe\">\n",
       "  <thead>\n",
       "    <tr style=\"text-align: right;\">\n",
       "      <th></th>\n",
       "      <th>S&amp;P500</th>\n",
       "      <th>Gold</th>\n",
       "    </tr>\n",
       "  </thead>\n",
       "  <tbody>\n",
       "    <tr>\n",
       "      <th>1/1/1971</th>\n",
       "      <td>95.879997</td>\n",
       "      <td>37.868</td>\n",
       "    </tr>\n",
       "    <tr>\n",
       "      <th>4/1/1971</th>\n",
       "      <td>103.949997</td>\n",
       "      <td>39.001</td>\n",
       "    </tr>\n",
       "    <tr>\n",
       "      <th>7/1/1971</th>\n",
       "      <td>95.580002</td>\n",
       "      <td>40.929</td>\n",
       "    </tr>\n",
       "    <tr>\n",
       "      <th>10/1/1971</th>\n",
       "      <td>94.230003</td>\n",
       "      <td>42.473</td>\n",
       "    </tr>\n",
       "    <tr>\n",
       "      <th>1/1/1972</th>\n",
       "      <td>103.940002</td>\n",
       "      <td>45.640</td>\n",
       "    </tr>\n",
       "  </tbody>\n",
       "</table>\n",
       "</div>"
      ],
      "text/plain": [
       "               S&P500    Gold\n",
       "1/1/1971    95.879997  37.868\n",
       "4/1/1971   103.949997  39.001\n",
       "7/1/1971    95.580002  40.929\n",
       "10/1/1971   94.230003  42.473\n",
       "1/1/1972   103.940002  45.640"
      ]
     },
     "execution_count": 41,
     "metadata": {},
     "output_type": "execute_result"
    }
   ],
   "source": [
    "# drop columns\n",
    "gold_sp500 = combined_df_indices.drop(columns=['DJIA','NASDAQ','10_Year','GDP'])\n",
    "gold_sp500.head()"
   ]
  },
  {
   "cell_type": "code",
   "execution_count": 43,
   "metadata": {},
   "outputs": [
    {
     "name": "stderr",
     "output_type": "stream",
     "text": [
      "C:\\Users\\clear\\anaconda3\\envs\\dev\\lib\\site-packages\\pandas\\plotting\\_core.py:396: UserWarning: FixedFormatter should only be used together with FixedLocator\n",
      "  ax.set_xticklabels(xticklabels)\n"
     ]
    },
    {
     "data": {
      "text/plain": [
       "<AxesSubplot:>"
      ]
     },
     "execution_count": 43,
     "metadata": {},
     "output_type": "execute_result"
    },
    {
     "data": {
      "image/png": "[encoded data removed]",
      "text/plain": [
       "<Figure size 1440x720 with 1 Axes>"
      ]
     },
     "metadata": {
      "needs_background": "light"
     },
     "output_type": "display_data"
    }
   ],
   "source": [
    "gold_sp500.plot(figsize=(20, 10))"
   ]
  },
  {
   "cell_type": "code",
   "execution_count": 31,
   "metadata": {},
   "outputs": [
    {
     "data": {
      "text/plain": [
       "<AxesSubplot:xlabel='Gold', ylabel='S&P500'>"
      ]
     },
     "execution_count": 31,
     "metadata": {},
     "output_type": "execute_result"
    },
    {
     "data": {
      "image/png": "[encoded data removed]",
      "text/plain": [
       "<Figure size 432x288 with 1 Axes>"
      ]
     },
     "metadata": {
      "needs_background": "light"
     },
     "output_type": "display_data"
    }
   ],
   "source": [
    "# Plot the relationship between the two variables\n",
    "gold_sp500.plot(kind='scatter', x='Gold', y='S&P500')"
   ]
  },
  {
   "cell_type": "code",
   "execution_count": 39,
   "metadata": {},
   "outputs": [
    {
     "data": {
      "text/html": [
       "<div>\n",
       "<style scoped>\n",
       "    .dataframe tbody tr th:only-of-type {\n",
       "        vertical-align: middle;\n",
       "    }\n",
       "\n",
       "    .dataframe tbody tr th {\n",
       "        vertical-align: top;\n",
       "    }\n",
       "\n",
       "    .dataframe thead th {\n",
       "        text-align: right;\n",
       "    }\n",
       "</style>\n",
       "<table border=\"1\" class=\"dataframe\">\n",
       "  <thead>\n",
       "    <tr style=\"text-align: right;\">\n",
       "      <th></th>\n",
       "      <th>S&amp;P500</th>\n",
       "      <th>Gold</th>\n",
       "    </tr>\n",
       "  </thead>\n",
       "  <tbody>\n",
       "    <tr>\n",
       "      <th>S&amp;P500</th>\n",
       "      <td>1.000000</td>\n",
       "      <td>0.782197</td>\n",
       "    </tr>\n",
       "    <tr>\n",
       "      <th>Gold</th>\n",
       "      <td>0.782197</td>\n",
       "      <td>1.000000</td>\n",
       "    </tr>\n",
       "  </tbody>\n",
       "</table>\n",
       "</div>"
      ],
      "text/plain": [
       "          S&P500      Gold\n",
       "S&P500  1.000000  0.782197\n",
       "Gold    0.782197  1.000000"
      ]
     },
     "execution_count": 39,
     "metadata": {},
     "output_type": "execute_result"
    }
   ],
   "source": [
    "gold_sp500_cor = gold_sp500.corr()\n",
    "gold_sp500_cor"
   ]
  },
  {
   "cell_type": "code",
   "execution_count": 40,
   "metadata": {},
   "outputs": [
    {
     "data": {
      "text/plain": [
       "<AxesSubplot:>"
      ]
     },
     "execution_count": 40,
     "metadata": {},
     "output_type": "execute_result"
    },
    {
     "data": {
      "image/png": "[encoded data removed]",
      "text/plain": [
       "<Figure size 432x288 with 2 Axes>"
      ]
     },
     "metadata": {
      "needs_background": "light"
     },
     "output_type": "display_data"
    }
   ],
   "source": [
    "sns.heatmap(gold_sp500_cor, vmin=-1, vmax=1)"
   ]
  },
  {
   "cell_type": "markdown",
   "metadata": {},
   "source": [
    "### Monte Carlo"
   ]
  },
  {
   "cell_type": "code",
   "execution_count": null,
   "metadata": {},
   "outputs": [],
   "source": [
    "%%capture\n",
    "#Import Libraries\n",
    "import numpy as np  \n",
    "import pandas_datareader as wb  \n",
    "import matplotlib.pyplot as plt  \n",
    "from scipy.stats import norm\n",
    "%matplotlib inline"
   ]
  },
  {
   "cell_type": "code",
   "execution_count": null,
   "metadata": {},
   "outputs": [],
   "source": [
    "#Settings for Monte Carlo asset data, how long, and how many forecasts \n",
    "ticker = 'GDP' # ticker\n",
    "t_intervals = 40 # time steps forecasted into future\n",
    "iterations = 1000 # amount of simulations"
   ]
  },
  {
   "cell_type": "code",
   "execution_count": null,
   "metadata": {},
   "outputs": [],
   "source": [
    "#Acquiring data\n",
    "data = pd.read_csv('Data/gdp_data.csv',index_col=0,usecols=['Date', 'GDP'])\n",
    "data = data.rename(columns={\"Price\": ticker}) #.reset_index()"
   ]
  },
  {
   "cell_type": "code",
   "execution_count": null,
   "metadata": {},
   "outputs": [],
   "source": [
    "#Plot of asset historical closing price\n",
    "data.plot(figsize=(10, 6), title='Historical Closing Prices')"
   ]
  },
  {
   "cell_type": "code",
   "execution_count": null,
   "metadata": {},
   "outputs": [],
   "source": [
    "#Preparing log returns from data\n",
    "log_returns = np.log(1 + data.pct_change())"
   ]
  },
  {
   "cell_type": "code",
   "execution_count": null,
   "metadata": {},
   "outputs": [],
   "source": [
    "#Plot of log returns\n",
    "log_returns.plot(figsize = (10, 6), title=\"Log Returns\")"
   ]
  },
  {
   "cell_type": "code",
   "execution_count": null,
   "metadata": {},
   "outputs": [],
   "source": [
    "print(round(np.mean(log_returns*100),2)) # GDP Quarterly Average Return"
   ]
  },
  {
   "cell_type": "markdown",
   "metadata": {},
   "source": [
    "## Monte Carlo Simulation"
   ]
  },
  {
   "cell_type": "code",
   "execution_count": null,
   "metadata": {},
   "outputs": [],
   "source": [
    "# additional imports\n",
    "import math"
   ]
  },
  {
   "cell_type": "code",
   "execution_count": null,
   "metadata": {},
   "outputs": [],
   "source": [
    "#set up empty list to hold our ending values for each simulated price series\n",
    "result = []\n",
    "\n",
    "#Setting up drift and random component in relation to asset data\n",
    "u = log_returns.mean() # Return\n",
    "var = log_returns.var() #Volatility\n",
    "drift = u - (0.5 * var)\n",
    "stdev = log_returns.std()\n",
    "\n",
    "daily_returns = np.exp(drift.values + stdev.values * norm.ppf(np.random.rand(t_intervals, iterations)))"
   ]
  },
  {
   "cell_type": "code",
   "execution_count": null,
   "metadata": {},
   "outputs": [],
   "source": [
    "#Takes last data point as startpoint point for simulation\n",
    "S0 = data.iloc[-1]\n",
    "price_list = np.zeros_like(daily_returns)\n",
    "price_list[0] = S0"
   ]
  },
  {
   "cell_type": "code",
   "execution_count": null,
   "metadata": {},
   "outputs": [],
   "source": [
    "#Applies Monte Carlo simulation in asset\n",
    "for t in range(1, t_intervals):\n",
    "    price_list[t] = price_list[t - 1] * daily_returns[t]\n",
    "    \n",
    "plt.figure(figsize=(10,6))\n",
    "plt.plot(price_list)\n",
    "result.append(price_list[-1])\n",
    "\n",
    "#show the plot of multiple price series created above\n",
    "plt.show()\n",
    "\n",
    "#create histogram of ending stock values for our mutliple simulations\n",
    "plt.figure(figsize=(10,6))\n",
    "plt.hist(result,bins=50)\n",
    "plt.show()"
   ]
  },
  {
   "cell_type": "code",
   "execution_count": null,
   "metadata": {},
   "outputs": [],
   "source": [
    "future_GDP = round(np.mean(result))"
   ]
  },
  {
   "cell_type": "code",
   "execution_count": null,
   "metadata": {},
   "outputs": [],
   "source": [
    "# print(\"Mean =\",round(np.mean(result)))\n",
    "print(f\"Expected future value of US GDP, {t_intervals} quarters in the future: {round(future_GDP,2)}\")\n",
    "print(\"5% quantile =\",round(np.percentile(result,5)))\n",
    "print(\"95% quantile =\",round(np.percentile(result,95)))"
   ]
  },
  {
   "cell_type": "code",
   "execution_count": null,
   "metadata": {},
   "outputs": [],
   "source": [
    "plt.figure(figsize=(10,6))\n",
    "plt.hist(result,bins=50)\n",
    "plt.axvline(np.percentile(result,5), color='r', linestyle='dashed', linewidth=2)\n",
    "plt.axvline(np.percentile(result,50), color='r', linestyle='solid', linewidth=4)\n",
    "plt.axvline(np.percentile(result,95), color='r', linestyle='dashed', linewidth=2)\n",
    "plt.show()"
   ]
  },
  {
   "cell_type": "markdown",
   "metadata": {},
   "source": [
    "## Linear Regression"
   ]
  },
  {
   "cell_type": "code",
   "execution_count": null,
   "metadata": {},
   "outputs": [],
   "source": [
    "# additional imports\n",
    "import statsmodels.formula.api as smf\n",
    "from scipy import stats"
   ]
  },
  {
   "cell_type": "code",
   "execution_count": null,
   "metadata": {},
   "outputs": [],
   "source": [
    "# file_path = Path(\"Project/gdp_data.csv\")\n",
    "file_path = Path(\"Data/gdp_data.csv\")\n",
    "gdp_data = pd.read_csv(file_path, index_col=\"Date\", infer_datetime_format=True, parse_dates=True)\n",
    "data = pd.read_csv('Data/gdp_data.csv',index_col=0,usecols=['Date', 'GDP'])"
   ]
  },
  {
   "cell_type": "code",
   "execution_count": null,
   "metadata": {},
   "outputs": [],
   "source": [
    "# view concated gdp & indices data.head()\n",
    "combined_df.head(2)"
   ]
  },
  {
   "cell_type": "code",
   "execution_count": null,
   "metadata": {},
   "outputs": [],
   "source": [
    "combined_df_wgdp = pd.concat([gdp_data, combined_df], axis=\"columns\", join=\"inner\")\n",
    "combined_df_wgdp.head()"
   ]
  },
  {
   "cell_type": "markdown",
   "metadata": {},
   "source": [
    "## GDP VS DJIA"
   ]
  },
  {
   "cell_type": "code",
   "execution_count": null,
   "metadata": {},
   "outputs": [],
   "source": [
    "model = smf.ols('DIA ~ GDP', data=combined_df_wgdp)\n",
    "model = model.fit()\n",
    "\n",
    "sales_pred = model.predict()\n",
    "\n",
    "# Plot regression against actual data\n",
    "plt.figure(figsize=(12, 6))\n",
    "plt.plot(combined_df_wgdp['GDP'], combined_df_wgdp['DIA'], 'o')       # scatter plot showing actual data\n",
    "plt.plot(combined_df_wgdp['GDP'], sales_pred, 'r', linewidth=2)   # regression line\n",
    "plt.xlabel('GDP')\n",
    "plt.ylabel('DIA')\n",
    "plt.title('GDP VS SPDR Dow Jones Industrial Average ETF Trust (DIA)')\n",
    "plt.show()"
   ]
  },
  {
   "cell_type": "code",
   "execution_count": null,
   "metadata": {},
   "outputs": [],
   "source": [
    "# set variables\n",
    "x = combined_df_wgdp['GDP']\n",
    "y = combined_df_wgdp['DIA']\n",
    "\n",
    "slope, intercept, r_value, p_value, std_err = stats.linregress(x, y)\n",
    "future_DJIA = intercept + slope * future_GDP\n",
    "\n",
    "print(\"------------------Summary------------------------\")\n",
    "print(\"slope: %f    intercept: %f\" % (slope, intercept))\n",
    "print(\"R-squared: %f\" % r_value**2)\n",
    "print(\"------------------Future DJIA--------------------\")\n",
    "print(f\"Expected future value of the SPDR Dow Jones Industrial Average ETF Trust (DIA): {round(future_DJIA,2)}\")"
   ]
  },
  {
   "cell_type": "markdown",
   "metadata": {},
   "source": [
    "## GDP VS S&P 500"
   ]
  },
  {
   "cell_type": "code",
   "execution_count": null,
   "metadata": {},
   "outputs": [],
   "source": [
    "model = smf.ols('SPY ~ GDP', data=combined_df_wgdp)\n",
    "model = model.fit()\n",
    "\n",
    "sales_pred = model.predict()\n",
    "\n",
    "# Plot regression against actual data\n",
    "plt.figure(figsize=(12, 6))\n",
    "plt.plot(combined_df_wgdp['GDP'], combined_df_wgdp['SPY'], 'o')       # scatter plot showing actual data\n",
    "plt.plot(combined_df_wgdp['GDP'], sales_pred, 'r', linewidth=2)   # regression line\n",
    "plt.xlabel('GDP')\n",
    "plt.ylabel('SPY')\n",
    "plt.title('GDP VS SPDR S&P 500 ETF Trust (SPY)')\n",
    "plt.show()"
   ]
  },
  {
   "cell_type": "code",
   "execution_count": null,
   "metadata": {},
   "outputs": [],
   "source": [
    "x = combined_df_wgdp['GDP']\n",
    "y = combined_df_wgdp['SPY']\n",
    "\n",
    "slope, intercept, r_value, p_value, std_err = stats.linregress(x, y)\n",
    "\n",
    "print(\"------------------Summary------------------------\")\n",
    "print(\"slope: %f    intercept: %f\" % (slope, intercept))\n",
    "print(\"R-squared: %f\" % r_value**2)\n",
    "\n",
    "print(\"------------------Future S&P 500--------------------\")\n",
    "future_SP_500 = intercept + slope * future_GDP\n",
    "print(f\"Expected future value of the SPDR S&P 500 ETF Trust (SPY): {round(future_SP_500,2)}\")"
   ]
  },
  {
   "cell_type": "markdown",
   "metadata": {},
   "source": [
    "## GDP VS Gold"
   ]
  },
  {
   "cell_type": "code",
   "execution_count": null,
   "metadata": {},
   "outputs": [],
   "source": [
    "model = smf.ols('GLD ~ GDP', data=combined_df_wgdp)\n",
    "model = model.fit()\n",
    "\n",
    "sales_pred = model.predict()\n",
    "\n",
    "# Plot regression against actual data\n",
    "plt.figure(figsize=(12, 6))\n",
    "plt.plot(combined_df_wgdp['GDP'], combined_df_wgdp['GLD'], 'o')       # scatter plot showing actual data\n",
    "plt.plot(combined_df_wgdp['GDP'], sales_pred, 'r', linewidth=2)   # regression line\n",
    "plt.xlabel('GDP')\n",
    "plt.ylabel('GLD')\n",
    "plt.title('GDP VS SPDR Gold Trust (GLD)')\n",
    "plt.show()"
   ]
  },
  {
   "cell_type": "code",
   "execution_count": null,
   "metadata": {},
   "outputs": [],
   "source": [
    "x = combined_df_wgdp['GDP']\n",
    "y = combined_df_wgdp['GLD']\n",
    "\n",
    "slope, intercept, r_value, p_value, std_err = stats.linregress(x, y)\n",
    "\n",
    "print(\"------------------Summary------------------------\")\n",
    "print(\"slope: %f    intercept: %f\" % (slope, intercept))\n",
    "print(\"R-squared: %f\" % r_value**2)\n",
    "\n",
    "print(\"------------------Future Gold--------------------\")\n",
    "future_Gold = intercept + slope * future_GDP\n",
    "print(f\"Expected future value of the SPDR Gold Trust (GLD): {round(future_Gold,2)}\")"
   ]
  },
  {
   "cell_type": "markdown",
   "metadata": {},
   "source": [
    "## GDP VS NASDAQ"
   ]
  },
  {
   "cell_type": "code",
   "execution_count": null,
   "metadata": {},
   "outputs": [],
   "source": [
    "model = smf.ols('QQQ ~ GDP', data=combined_df_wgdp)\n",
    "model = model.fit()\n",
    "\n",
    "sales_pred = model.predict()\n",
    "\n",
    "# Plot regression against actual data\n",
    "plt.figure(figsize=(12, 6))\n",
    "plt.plot(combined_df_wgdp['GDP'], combined_df_wgdp['QQQ'], 'o')       # scatter plot showing actual data\n",
    "plt.plot(combined_df_wgdp['GDP'], sales_pred, 'r', linewidth=2)   # regression line\n",
    "plt.xlabel('GDP')\n",
    "plt.ylabel('QQQ')\n",
    "plt.title('GDP VS Invesco QQQ ETF (Nasdaq 100 index)')\n",
    "plt.show()"
   ]
  },
  {
   "cell_type": "code",
   "execution_count": null,
   "metadata": {},
   "outputs": [],
   "source": [
    "x = combined_df_wgdp['GDP']\n",
    "y = combined_df_wgdp['QQQ']\n",
    "\n",
    "slope, intercept, r_value, p_value, std_err = stats.linregress(x, y)\n",
    "\n",
    "print(\"------------------Summary------------------------\")\n",
    "print(\"slope: %f    intercept: %f\" % (slope, intercept))\n",
    "print(\"R-squared: %f\" % r_value**2)\n",
    "\n",
    "print(\"------------------Future NASDAQ--------------------\")\n",
    "future_NASDAQ = intercept + slope * future_GDP\n",
    "print(f\"Expected future value of the Invesco QQQ ETF (Nasdaq 100 index): {round(future_NASDAQ,2)}\")"
   ]
  },
  {
   "cell_type": "markdown",
   "metadata": {},
   "source": [
    "## GDP VS 10 Year UST"
   ]
  },
  {
   "cell_type": "code",
   "execution_count": null,
   "metadata": {},
   "outputs": [],
   "source": [
    "model = smf.ols('IEF ~ GDP', data=combined_df_wgdp)\n",
    "model = model.fit()\n",
    "\n",
    "sales_pred = model.predict()\n",
    "\n",
    "# Plot regression against actual data\n",
    "plt.figure(figsize=(12, 6))\n",
    "plt.plot(combined_df_wgdp['GDP'], combined_df_wgdp['IEF'], 'o')       # scatter plot showing actual data\n",
    "plt.plot(combined_df_wgdp['GDP'], sales_pred, 'r', linewidth=2)   # regression line\n",
    "plt.xlabel('GDP')\n",
    "plt.ylabel('IEF')\n",
    "plt.title('GDP VS iShares 7-10 Year Treasury Bond (IEF)')\n",
    "plt.show()"
   ]
  },
  {
   "cell_type": "code",
   "execution_count": null,
   "metadata": {},
   "outputs": [],
   "source": [
    "x = combined_df_wgdp['GDP']\n",
    "y = combined_df_wgdp['IEF']\n",
    "\n",
    "slope, intercept, r_value, p_value, std_err = stats.linregress(x, y)\n",
    "\n",
    "print(\"------------------Summary------------------------\")\n",
    "print(\"slope: %f    intercept: %f\" % (slope, intercept))\n",
    "print(\"R-squared: %f\" % r_value**2)\n",
    "\n",
    "print(\"------------------Future 10UST--------------------\")\n",
    "future_10UST = intercept + slope * future_GDP\n",
    "print(f\"Expected future value of the iShares 7-10 Year Treasury Bond (IEF): {round(future_10UST,2)}\")"
   ]
  },
  {
   "cell_type": "markdown",
   "metadata": {},
   "source": [
    "## Portfolios"
   ]
  },
  {
   "cell_type": "code",
   "execution_count": null,
   "metadata": {},
   "outputs": [],
   "source": [
    "# Create closing prices dataframe\n",
    "df_closing_prices = pd.DataFrame()\n",
    "\n",
    "df_closing_prices[\"SPY\"] = df_ticker[\"SPY\"][\"close\"]\n",
    "df_closing_prices[\"DIA\"] = df_ticker[\"DIA\"][\"close\"]\n",
    "df_closing_prices[\"QQQ\"] = df_ticker[\"QQQ\"][\"close\"]\n",
    "df_closing_prices[\"GLD\"] = df_ticker[\"GLD\"][\"close\"]\n",
    "df_closing_prices[\"IEF\"] = df_ticker[\"IEF\"][\"close\"]"
   ]
  },
  {
   "cell_type": "code",
   "execution_count": null,
   "metadata": {},
   "outputs": [],
   "source": [
    "# calculate daily returns and dropna\n",
    "df_daily_returns = df_closing_prices.pct_change().dropna()\n",
    "\n",
    "# display head\n",
    "df_daily_returns.head()"
   ]
  },
  {
   "cell_type": "code",
   "execution_count": null,
   "metadata": {},
   "outputs": [],
   "source": [
    "# display df daily returns description\n",
    "df_daily_returns.describe()"
   ]
  },
  {
   "cell_type": "code",
   "execution_count": null,
   "metadata": {},
   "outputs": [],
   "source": [
    "# plot daily returns density\n",
    "df_daily_returns.plot.density()"
   ]
  },
  {
   "cell_type": "code",
   "execution_count": null,
   "metadata": {},
   "outputs": [],
   "source": [
    "# set weights for aggressive portfolio\n",
    "aggressive_weights = [0.25, 0.25, 0.25, 0.20, 0.05]\n",
    "portfolio_returns_aggressive = df_daily_returns.dot(aggressive_weights)"
   ]
  },
  {
   "cell_type": "code",
   "execution_count": null,
   "metadata": {},
   "outputs": [],
   "source": [
    "# set weights for moderate portfolio\n",
    "moderate_weights = [0.16, 0.17, 0.17, 0.40, 0.10]\n",
    "portfolio_returns_moderate = df_daily_returns.dot(moderate_weights)"
   ]
  },
  {
   "cell_type": "code",
   "execution_count": null,
   "metadata": {},
   "outputs": [],
   "source": [
    "# set weights for conservative portfolio\n",
    "conservative_weights = [0.083, 0.083, 0.084, .6, 0.15]\n",
    "portfolio_returns_conservative = df_daily_returns.dot(conservative_weights)"
   ]
  },
  {
   "cell_type": "code",
   "execution_count": null,
   "metadata": {},
   "outputs": [],
   "source": [
    "# \n",
    "cumulative_returns_aggressive = (1+portfolio_returns_aggressive).cumprod()\n",
    "cumulative_returns_moderate = (1+portfolio_returns_moderate).cumprod()\n",
    "cumulative_returns_conservative = (1+portfolio_returns_conservative).cumprod()"
   ]
  },
  {
   "cell_type": "code",
   "execution_count": null,
   "metadata": {},
   "outputs": [],
   "source": [
    "# plot returns for portfolios\n",
    "basePlot = cumulative_returns_aggressive.plot()\n",
    "cumulative_returns_moderate.plot(ax=basePlot)\n",
    "cumulative_returns_conservative.plot(ax=basePlot)\n",
    "basePlot.legend([\"Agressive\",'Moderate',\"Conservative\"]);"
   ]
  }
 ],
 "metadata": {
  "kernelspec": {
   "display_name": "Python 3",
   "language": "python",
   "name": "python3"
  },
  "language_info": {
   "codemirror_mode": {
    "name": "ipython",
    "version": 3
   },
   "file_extension": ".py",
   "mimetype": "text/x-python",
   "name": "python",
   "nbconvert_exporter": "python",
   "pygments_lexer": "ipython3",
   "version": "3.7.7"
  }
 },
 "nbformat": 4,
 "nbformat_minor": 4
}
